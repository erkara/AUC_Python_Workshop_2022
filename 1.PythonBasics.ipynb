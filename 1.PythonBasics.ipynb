{
 "cells": [
  {
   "cell_type": "markdown",
   "id": "ee117efb",
   "metadata": {
    "toc": true
   },
   "source": [
    "<h1>Table of Contents<span class=\"tocSkip\"></span></h1>\n",
    "<div class=\"toc\"><ul class=\"toc-item\"><li><span><a href=\"#Understanding-Jupyter-Environment\" data-toc-modified-id=\"Understanding-Jupyter-Environment-1\"><span class=\"toc-item-num\">1&nbsp;&nbsp;</span>Understanding Jupyter Environment</a></span><ul class=\"toc-item\"><li><span><a href=\"#Why-Jupyter?\" data-toc-modified-id=\"Why-Jupyter?-1.1\"><span class=\"toc-item-num\">1.1&nbsp;&nbsp;</span>Why Jupyter?</a></span></li><li><span><a href=\"#Running-Python-in-Jupyter-Notebook\" data-toc-modified-id=\"Running-Python-in-Jupyter-Notebook-1.2\"><span class=\"toc-item-num\">1.2&nbsp;&nbsp;</span>Running Python in Jupyter Notebook</a></span></li></ul></li><li><span><a href=\"#Python-Basics\" data-toc-modified-id=\"Python-Basics-2\"><span class=\"toc-item-num\">2&nbsp;&nbsp;</span>Python Basics</a></span><ul class=\"toc-item\"><li><span><a href=\"#Syntax-and-Variables\" data-toc-modified-id=\"Syntax-and-Variables-2.1\"><span class=\"toc-item-num\">2.1&nbsp;&nbsp;</span>Syntax and Variables</a></span></li><li><span><a href=\"#Control-Flow\" data-toc-modified-id=\"Control-Flow-2.2\"><span class=\"toc-item-num\">2.2&nbsp;&nbsp;</span>Control Flow</a></span></li><li><span><a href=\"#Data-Structures:-Lists,-Tuples-and--Dictionaries\" data-toc-modified-id=\"Data-Structures:-Lists,-Tuples-and--Dictionaries-2.3\"><span class=\"toc-item-num\">2.3&nbsp;&nbsp;</span>Data Structures: Lists, Tuples and  Dictionaries</a></span></li><li><span><a href=\"#List-Comprehensions\" data-toc-modified-id=\"List-Comprehensions-2.4\"><span class=\"toc-item-num\">2.4&nbsp;&nbsp;</span>List Comprehensions</a></span></li><li><span><a href=\"#Functions\" data-toc-modified-id=\"Functions-2.5\"><span class=\"toc-item-num\">2.5&nbsp;&nbsp;</span>Functions</a></span></li><li><span><a href=\"#Interacting-with-Python-Modules\" data-toc-modified-id=\"Interacting-with-Python-Modules-2.6\"><span class=\"toc-item-num\">2.6&nbsp;&nbsp;</span>Interacting with Python Modules</a></span></li><li><span><a href=\"#Wrap-up-and-Examples\" data-toc-modified-id=\"Wrap-up-and-Examples-2.7\"><span class=\"toc-item-num\">2.7&nbsp;&nbsp;</span>Wrap-up and Examples</a></span></li></ul></li></ul></div>"
   ]
  },
  {
   "cell_type": "markdown",
   "id": "9ad4d177",
   "metadata": {},
   "source": [
    "# Understanding Jupyter Environment"
   ]
  },
  {
   "cell_type": "markdown",
   "id": "5636e668",
   "metadata": {},
   "source": [
    "## Why Jupyter?"
   ]
  },
  {
   "cell_type": "markdown",
   "id": "5752a251",
   "metadata": {},
   "source": [
    "- Great for small-to-medium size projects.\n",
    "- Well suited for high-quality presentations.(Show my repository) \n",
    "\n",
    "pip install jupyter_contrib_nbextensions\n",
    "\n",
    "jupyter contrib nbextension install --user\n",
    "\n",
    "- Customize with \"nb-extentions\". For example, latex can be added. Table of context is possible.\n",
    "    $$ \\dfrac{x^2-1}{x+1}=\\dfrac{(x-1)(x+1)}{x+1}=x-1$$\n",
    "- Nice fonts *italic*, **bold** etc.\n",
    "- Download as a python file, pdf, html, latex etc. "
   ]
  },
  {
   "cell_type": "markdown",
   "id": "7ea9f760",
   "metadata": {},
   "source": [
    "## Running Python in Jupyter Notebook  "
   ]
  },
  {
   "cell_type": "markdown",
   "id": "10a5dc90",
   "metadata": {},
   "source": [
    "- Write the code and run with \"Ctrl+Shift\" or \"Run\" button at the upper panel"
   ]
  },
  {
   "cell_type": "code",
   "execution_count": 1,
   "id": "a762d10a",
   "metadata": {},
   "outputs": [
    {
     "name": "stdout",
     "output_type": "stream",
     "text": [
      "HelloWorld\n"
     ]
    }
   ],
   "source": [
    "print('HelloWorld')"
   ]
  },
  {
   "cell_type": "markdown",
   "id": "37167fd9",
   "metadata": {},
   "source": [
    "- Each cell is either a code block(default setting) or text block.\n",
    "- Each code block can be executed independently. Press\"M\" switched to text block."
   ]
  },
  {
   "cell_type": "code",
   "execution_count": 2,
   "id": "e44fd75e",
   "metadata": {},
   "outputs": [
    {
     "name": "stdout",
     "output_type": "stream",
     "text": [
      "I like Python\n"
     ]
    }
   ],
   "source": [
    "print('I like Python')"
   ]
  },
  {
   "cell_type": "markdown",
   "id": "501763ab",
   "metadata": {},
   "source": [
    "- Common short cuts can be found at 'Help/Keyboard Shortcut'\n",
    "- **\"Ctlr+Shift\"**: run the cell, **\"M\"**: switch to text block, **\"BB\"**: add cells down, **\"AA\"**: add cells above\n",
    "- Have a look at the Jupyter cheat-sheet for more info. But it is good to learn them by practice.\n"
   ]
  },
  {
   "cell_type": "code",
   "execution_count": 3,
   "id": "d75a0538",
   "metadata": {},
   "outputs": [
    {
     "name": "stdout",
     "output_type": "stream",
     "text": [
      "20\n"
     ]
    }
   ],
   "source": [
    "x = 4\n",
    "y = 5\n",
    "print(x*y)"
   ]
  },
  {
   "cell_type": "markdown",
   "id": "22a6eacb",
   "metadata": {},
   "source": [
    "# Python Basics"
   ]
  },
  {
   "cell_type": "markdown",
   "id": "2767952a",
   "metadata": {},
   "source": [
    "## Syntax and Variables"
   ]
  },
  {
   "cell_type": "markdown",
   "id": "fccbef01",
   "metadata": {},
   "source": [
    "Python uses whitespace (tabs or spaces) to structure code. Thus, indentation matters. \"Similar\" code blocks must be aligned with each other. \"unexpected indent\" is a very common error for beginners but it is easy to fix."
   ]
  },
  {
   "cell_type": "code",
   "execution_count": 4,
   "id": "3c8c45a2",
   "metadata": {},
   "outputs": [
    {
     "ename": "IndentationError",
     "evalue": "unexpected indent (3097081982.py, line 3)",
     "output_type": "error",
     "traceback": [
      "\u001b[0;36m  File \u001b[0;32m\"/tmp/ipykernel_10797/3097081982.py\"\u001b[0;36m, line \u001b[0;32m3\u001b[0m\n\u001b[0;31m    print(x+y)\u001b[0m\n\u001b[0m    ^\u001b[0m\n\u001b[0;31mIndentationError\u001b[0m\u001b[0;31m:\u001b[0m unexpected indent\n"
     ]
    }
   ],
   "source": [
    "x = 2\n",
    "y = 4\n",
    " print(x+y)"
   ]
  },
  {
   "cell_type": "code",
   "execution_count": null,
   "id": "ae004602",
   "metadata": {},
   "outputs": [],
   "source": [
    "#Use \"sharp(#)\" to comment in code block. Some basic operations\n",
    "x = 1.2\n",
    "y = 2\n",
    "print(x+y)\n",
    "print(x/y)\n",
    "print(x*y)\n",
    "print(y**3)\n",
    "\n",
    "print(type(x))"
   ]
  },
  {
   "cell_type": "code",
   "execution_count": null,
   "id": "d10d123f",
   "metadata": {},
   "outputs": [],
   "source": []
  },
  {
   "cell_type": "code",
   "execution_count": 5,
   "id": "171f14d4",
   "metadata": {},
   "outputs": [
    {
     "name": "stdout",
     "output_type": "stream",
     "text": [
      "<class 'str'>\n"
     ]
    }
   ],
   "source": [
    "#everyhing is an object in Python...To see the attributes do \"dot+tab\"\n",
    "a = 'I saw a duck' #string\n",
    "print(type(a))"
   ]
  },
  {
   "cell_type": "code",
   "execution_count": 6,
   "id": "f1aeeb92",
   "metadata": {},
   "outputs": [
    {
     "name": "stdout",
     "output_type": "stream",
     "text": [
      "I SAW A DUCK\n",
      "I saw a duck\n"
     ]
    }
   ],
   "source": [
    "print(a.upper())\n",
    "print(a.capitalize())"
   ]
  },
  {
   "cell_type": "code",
   "execution_count": 7,
   "id": "ab998cd7",
   "metadata": {},
   "outputs": [
    {
     "name": "stdout",
     "output_type": "stream",
     "text": [
      "I can add two strings\n"
     ]
    }
   ],
   "source": [
    "a = \"I can add\"\n",
    "b = \" two strings\"\n",
    "print(a+b)"
   ]
  },
  {
   "cell_type": "markdown",
   "id": "8e86559d",
   "metadata": {},
   "source": [
    "Let's see how we can format the outputs in Python with 'print' statement."
   ]
  },
  {
   "cell_type": "code",
   "execution_count": 8,
   "id": "c8d819f1",
   "metadata": {},
   "outputs": [
    {
     "name": "stdout",
     "output_type": "stream",
     "text": [
      "My name is Alan and I have 10 apples\n"
     ]
    }
   ],
   "source": [
    "name = 'Alan'\n",
    "number = 10\n",
    "print(f'My name is {name} and I have {number} apples')  "
   ]
  },
  {
   "cell_type": "markdown",
   "id": "25decd83",
   "metadata": {
    "heading_collapsed": true
   },
   "source": [
    "## Control Flow"
   ]
  },
  {
   "cell_type": "markdown",
   "id": "6d673114",
   "metadata": {
    "hidden": true
   },
   "source": [
    "- The if statement is one of the most well-known control flow statement types. It\n",
    "checks a condition that, if True, evaluates the code in the block. We sometimes follow by \"elif\" or \"else\".\n",
    "- \"for\" loops are for iterating over a collection (like a list or tuple) or an iterater. We may use \"break\" to break it. We will do more fun stuff with it in the future.\n",
    "- A while loop specifies a condition and a block of code that is to be executed until the\n",
    "condition evaluates to False or the loop is explicitly ended with break"
   ]
  },
  {
   "cell_type": "markdown",
   "id": "0ac3ca93",
   "metadata": {
    "hidden": true
   },
   "source": [
    "**Ex** Given x and y, if x*y is positive, print 'product is positive',if x*y is negative, print 'product is negative'. Then improve to handle 0 case. Dont forget to make mistakes..."
   ]
  },
  {
   "cell_type": "code",
   "execution_count": 9,
   "id": "71795610",
   "metadata": {
    "hidden": true
   },
   "outputs": [
    {
     "name": "stdout",
     "output_type": "stream",
     "text": [
      "Product is zero\n"
     ]
    }
   ],
   "source": [
    "x = 10\n",
    "y = 0\n",
    "#(1)\n",
    "# if x*y > 0:\n",
    "#     print('Product is positive')\n",
    "# else:\n",
    "#     print('Product is negative')\n",
    "        \n",
    "    \n",
    "#(2)\n",
    "if x*y > 0:\n",
    "    print('Product is positive')\n",
    "elif x*y == 0:\n",
    "    print('Product is zero')\n",
    "else:\n",
    "    print('Product is negative')\n",
    "        "
   ]
  },
  {
   "cell_type": "code",
   "execution_count": 10,
   "id": "75da9809",
   "metadata": {
    "hidden": true
   },
   "outputs": [
    {
     "name": "stdout",
     "output_type": "stream",
     "text": [
      "0\n",
      "2\n",
      "4\n",
      "5\n"
     ]
    }
   ],
   "source": [
    "#for loop\n",
    "numbers = [0,2,4,5]\n",
    "for i in numbers:\n",
    "    print(i)"
   ]
  },
  {
   "cell_type": "markdown",
   "id": "131b798e",
   "metadata": {
    "hidden": true
   },
   "source": [
    "It is very common to use for loop with **'range'** function. The range function returns an iterator that yields a sequence of evenly spaced integers. range produces integers up to but not including the endpoint"
   ]
  },
  {
   "cell_type": "code",
   "execution_count": 11,
   "id": "abd82672",
   "metadata": {
    "hidden": true
   },
   "outputs": [
    {
     "name": "stdout",
     "output_type": "stream",
     "text": [
      "0\n",
      "1\n",
      "2\n",
      "3\n",
      "4\n"
     ]
    }
   ],
   "source": [
    "for i in range(5):\n",
    "    print(i)"
   ]
  },
  {
   "cell_type": "code",
   "execution_count": 12,
   "id": "1c1faabb",
   "metadata": {
    "hidden": true
   },
   "outputs": [
    {
     "name": "stdout",
     "output_type": "stream",
     "text": [
      "3\n",
      "4\n",
      "5\n",
      "6\n",
      "7\n"
     ]
    }
   ],
   "source": [
    "#range(m,n)--> m, m+1,..n-1\n",
    "for i in range(3,8):\n",
    "    print(i)"
   ]
  },
  {
   "cell_type": "code",
   "execution_count": 13,
   "id": "7bb354ce",
   "metadata": {
    "hidden": true
   },
   "outputs": [
    {
     "name": "stdout",
     "output_type": "stream",
     "text": [
      "2\n",
      "5\n",
      "8\n",
      "11\n"
     ]
    }
   ],
   "source": [
    "#range(a,b,k)--> a,a+k,a+2k,..\n",
    "for i in range(2,12,3):\n",
    "    print(i)"
   ]
  },
  {
   "cell_type": "code",
   "execution_count": 14,
   "id": "64b42777",
   "metadata": {
    "hidden": true
   },
   "outputs": [
    {
     "name": "stdout",
     "output_type": "stream",
     "text": [
      "i=0 j=0\n",
      "i=0 j=1\n",
      "i=0 j=2\n",
      "i=1 j=0\n",
      "i=1 j=1\n",
      "i=1 j=2\n"
     ]
    }
   ],
   "source": [
    "for i in range(2):\n",
    "    for j in range(3):\n",
    "        print(f'i={i} j={j}')"
   ]
  },
  {
   "cell_type": "markdown",
   "id": "9bc1980a",
   "metadata": {
    "hidden": true
   },
   "source": [
    "**Example**: \n",
    "\n",
    "(a) Given a number 'n', find the sum of all numbers up to \"n\"(including n). Print out the running sum and the current number.\n",
    "(b) If this sum is greater than a given 'upper_bound', break the loop with 'break' statement.\n"
   ]
  },
  {
   "cell_type": "code",
   "execution_count": 15,
   "id": "4ac825c4",
   "metadata": {
    "hidden": true
   },
   "outputs": [
    {
     "name": "stdout",
     "output_type": "stream",
     "text": [
      "current_number: 0, sum: 0\n",
      "current_number: 1, sum: 1\n",
      "current_number: 2, sum: 3\n",
      "current_number: 3, sum: 6\n",
      "upper bound exceded, breaking...\n"
     ]
    }
   ],
   "source": [
    "n = 5\n",
    "sum = 0\n",
    "upper_bound = 5\n",
    "for i in range(n+1):\n",
    "    sum = sum + i\n",
    "    print(f'current_number: {i}, sum: {sum}')\n",
    "    if sum >= upper_bound:\n",
    "        print('upper bound exceded, breaking...')\n",
    "        break"
   ]
  },
  {
   "cell_type": "markdown",
   "id": "1dc16a09",
   "metadata": {
    "hidden": true
   },
   "source": [
    "**Example**\n",
    "Given a number \"n\", find the sum of all integers divisible by 3 up to \"n\".\n",
    "(a) Use range function\n",
    "(b) Use modulo operator"
   ]
  },
  {
   "cell_type": "code",
   "execution_count": 16,
   "id": "b03d7976",
   "metadata": {
    "hidden": true
   },
   "outputs": [
    {
     "name": "stdout",
     "output_type": "stream",
     "text": [
      "sum:18\n"
     ]
    }
   ],
   "source": [
    "n=9\n",
    "sum = 0\n",
    "# for i in range(0,n+1,3):\n",
    "#     sum = sum + i\n",
    "    \n",
    "# print(f'sum: {sum}')\n",
    "for i in range(n+1):\n",
    "    if i%3==0:\n",
    "        sum = sum + i\n",
    "print(f'sum:{sum}')"
   ]
  },
  {
   "cell_type": "markdown",
   "id": "872fe581",
   "metadata": {
    "hidden": true
   },
   "source": [
    "**Ex** Recall the sum of the geometric series $$\\displaystyle\\sum_{k=0}^{n} r^k=1+r+r^2+...+ r^n=\\dfrac{1-r^{n+1}}{1-r}$$ Verify this formula with $r=1/2$ and $n=10$."
   ]
  },
  {
   "cell_type": "code",
   "execution_count": 17,
   "id": "bf327bff",
   "metadata": {
    "hidden": true
   },
   "outputs": [
    {
     "name": "stdout",
     "output_type": "stream",
     "text": [
      "real_sum:1.875\n",
      "geo_sum:1.875\n"
     ]
    }
   ],
   "source": [
    "r = 1/2\n",
    "n = 3\n",
    "real_sum = (1-r**(n+1))/(1-r)\n",
    "#via formula\n",
    "print(f'real_sum:{real_sum}')\n",
    "\n",
    "geo_sum = 0\n",
    "for k in range(n+1):\n",
    "    geo_sum = geo_sum + r**k\n",
    "\n",
    "print(f'geo_sum:{geo_sum}')\n",
    "    "
   ]
  },
  {
   "cell_type": "markdown",
   "id": "0ce42aff",
   "metadata": {},
   "source": [
    "## Data Structures: Lists, Tuples and  Dictionaries"
   ]
  },
  {
   "cell_type": "markdown",
   "id": "94de7a2a",
   "metadata": {},
   "source": [
    "These are essential in any project. Have a look at our cheat sheet."
   ]
  },
  {
   "cell_type": "markdown",
   "id": "9beb4ea8",
   "metadata": {},
   "source": [
    "- List: Different objects categorized along a certain ordered sequence, lists are ordered, iterable, mutable (adding or removing objects changes the list size), can contain multiple data types. In simple words, an immutable object can’t be changed after it is created."
   ]
  },
  {
   "cell_type": "code",
   "execution_count": 18,
   "id": "7c3cfebc",
   "metadata": {},
   "outputs": [
    {
     "name": "stdout",
     "output_type": "stream",
     "text": [
      "<class 'list'>\n",
      "3\n"
     ]
    }
   ],
   "source": [
    "names = ['apple','banana','orange']\n",
    "print(type(names))\n",
    "print(len(names))"
   ]
  },
  {
   "cell_type": "code",
   "execution_count": 19,
   "id": "e9a41e12",
   "metadata": {},
   "outputs": [
    {
     "data": {
      "text/plain": [
       "'apple'"
      ]
     },
     "execution_count": 19,
     "metadata": {},
     "output_type": "execute_result"
    }
   ],
   "source": [
    "names[0]"
   ]
  },
  {
   "cell_type": "code",
   "execution_count": 20,
   "id": "adba9c75",
   "metadata": {},
   "outputs": [
    {
     "name": "stdout",
     "output_type": "stream",
     "text": [
      "['apple', 'banana', 'orange', 'mango']\n"
     ]
    }
   ],
   "source": [
    "# modify a list (does not return the list).Again use <tab>\n",
    "names.append('mango')\n",
    "print(names)"
   ]
  },
  {
   "cell_type": "code",
   "execution_count": 21,
   "id": "384bbcdb",
   "metadata": {},
   "outputs": [
    {
     "name": "stdout",
     "output_type": "stream",
     "text": [
      "['kiwi', 'banana', 'orange', 'mango']\n"
     ]
    }
   ],
   "source": [
    "#replace the first element\n",
    "names[0] = 'kiwi'\n",
    "print(names)"
   ]
  },
  {
   "cell_type": "markdown",
   "id": "0861b032",
   "metadata": {},
   "source": [
    "list slicing [start:end:stride]. Python is readble"
   ]
  },
  {
   "cell_type": "code",
   "execution_count": 22,
   "id": "257066d7",
   "metadata": {},
   "outputs": [
    {
     "name": "stdout",
     "output_type": "stream",
     "text": [
      "['tues', 'wed', 'thurs']\n",
      "['wed', 'thurs', 'fri']\n",
      "fri\n"
     ]
    }
   ],
   "source": [
    "weekdays = ['mon','tues','wed','thurs','fri']\n",
    "print(weekdays[1:4])  # from element 1 to 3\n",
    "print(weekdays[2:])   # elements 2,3,4\n",
    "print(weekdays[-1])   # last element"
   ]
  },
  {
   "cell_type": "code",
   "execution_count": 23,
   "id": "df6bea05",
   "metadata": {},
   "outputs": [
    {
     "name": "stdout",
     "output_type": "stream",
     "text": [
      "False\n"
     ]
    }
   ],
   "source": [
    "#useful operation\n",
    "x = ['a','b','c']\n",
    "y = ['a','b','e']\n",
    "print(x==y)"
   ]
  },
  {
   "cell_type": "markdown",
   "id": "b3c340e4",
   "metadata": {},
   "source": [
    "**Tuples**: Like lists, but their size cannot change: ordered, iterable, immutable, can contain multiple data\n",
    "types. Due to immutable nature, they are faster than lists."
   ]
  },
  {
   "cell_type": "code",
   "execution_count": 24,
   "id": "8c4d1f82",
   "metadata": {},
   "outputs": [
    {
     "name": "stdout",
     "output_type": "stream",
     "text": [
      "<class 'tuple'>\n"
     ]
    }
   ],
   "source": [
    "digits = (1,2,'three','four',5,'six','six')\n",
    "print(type(digits))"
   ]
  },
  {
   "cell_type": "code",
   "execution_count": 26,
   "id": "020c7ec0",
   "metadata": {
    "scrolled": true
   },
   "outputs": [
    {
     "ename": "TypeError",
     "evalue": "'tuple' object does not support item assignment",
     "output_type": "error",
     "traceback": [
      "\u001b[0;31m---------------------------------------------------------------------------\u001b[0m",
      "\u001b[0;31mTypeError\u001b[0m                                 Traceback (most recent call last)",
      "\u001b[0;32m/tmp/ipykernel_10769/1601988008.py\u001b[0m in \u001b[0;36m<module>\u001b[0;34m\u001b[0m\n\u001b[0;32m----> 1\u001b[0;31m \u001b[0mdigits\u001b[0m\u001b[0;34m[\u001b[0m\u001b[0;36m0\u001b[0m\u001b[0;34m]\u001b[0m \u001b[0;34m=\u001b[0m \u001b[0;34m'hi'\u001b[0m\u001b[0;34m\u001b[0m\u001b[0;34m\u001b[0m\u001b[0m\n\u001b[0m",
      "\u001b[0;31mTypeError\u001b[0m: 'tuple' object does not support item assignment"
     ]
    }
   ],
   "source": [
    "digits[0] = 'hi'"
   ]
  },
  {
   "cell_type": "code",
   "execution_count": 25,
   "id": "d14f0198",
   "metadata": {},
   "outputs": [
    {
     "name": "stdout",
     "output_type": "stream",
     "text": [
      "1\n",
      "three\n"
     ]
    }
   ],
   "source": [
    "print(digits[0])\n",
    "print(digits[2])"
   ]
  },
  {
   "cell_type": "code",
   "execution_count": 27,
   "id": "8c2fa9a4",
   "metadata": {},
   "outputs": [
    {
     "ename": "TypeError",
     "evalue": "'tuple' object does not support item assignment",
     "output_type": "error",
     "traceback": [
      "\u001b[0;31m---------------------------------------------------------------------------\u001b[0m",
      "\u001b[0;31mTypeError\u001b[0m                                 Traceback (most recent call last)",
      "\u001b[0;32m/tmp/ipykernel_10797/1982718301.py\u001b[0m in \u001b[0;36m<module>\u001b[0;34m\u001b[0m\n\u001b[0;32m----> 1\u001b[0;31m \u001b[0mdigits\u001b[0m\u001b[0;34m[\u001b[0m\u001b[0;36m1\u001b[0m\u001b[0;34m]\u001b[0m \u001b[0;34m=\u001b[0m \u001b[0;34m'hello'\u001b[0m\u001b[0;34m\u001b[0m\u001b[0;34m\u001b[0m\u001b[0m\n\u001b[0m",
      "\u001b[0;31mTypeError\u001b[0m: 'tuple' object does not support item assignment"
     ]
    }
   ],
   "source": [
    "digits[1] = 'hello'"
   ]
  },
  {
   "cell_type": "code",
   "execution_count": null,
   "id": "b99b27ba",
   "metadata": {},
   "outputs": [],
   "source": [
    "digits.count('six')"
   ]
  },
  {
   "cell_type": "code",
   "execution_count": 28,
   "id": "c57ee167",
   "metadata": {},
   "outputs": [
    {
     "name": "stdout",
     "output_type": "stream",
     "text": [
      "8\n"
     ]
    }
   ],
   "source": [
    "n_tuple = (\"mouse\", [8, 4, 6], (1, 2, 3))\n",
    "print(n_tuple[1][0])"
   ]
  },
  {
   "cell_type": "markdown",
   "id": "3eee840b",
   "metadata": {},
   "source": [
    "**Dictionaries**: these are structures which can contain multiple data types, and is ordered with key-value\n",
    "pairs: for each (unique) key, the dictionary outputs one value. Keys can be strings, numbers, or\n",
    "tuples, while the corresponding values can be any Python object. Dictionaries are: *unordered,\n",
    "iterable, mutable*\n"
   ]
  },
  {
   "cell_type": "code",
   "execution_count": 29,
   "id": "26071b6b",
   "metadata": {},
   "outputs": [],
   "source": [
    "baby = {'name': 'Tedy', 'age':4, 'toys':['bear','panda'] }"
   ]
  },
  {
   "cell_type": "code",
   "execution_count": 30,
   "id": "59db3464",
   "metadata": {},
   "outputs": [
    {
     "name": "stdout",
     "output_type": "stream",
     "text": [
      "dict_keys(['name', 'age', 'toys'])\n",
      "dict_values(['Tedy', 4, ['bear', 'panda']])\n"
     ]
    }
   ],
   "source": [
    "print(baby.keys())\n",
    "\n",
    "print(baby.values())"
   ]
  },
  {
   "cell_type": "code",
   "execution_count": 31,
   "id": "627845ff",
   "metadata": {},
   "outputs": [
    {
     "data": {
      "text/plain": [
       "4"
      ]
     },
     "execution_count": 31,
     "metadata": {},
     "output_type": "execute_result"
    }
   ],
   "source": [
    "baby['age']"
   ]
  },
  {
   "cell_type": "code",
   "execution_count": 32,
   "id": "d1b9f4ec",
   "metadata": {},
   "outputs": [
    {
     "name": "stdout",
     "output_type": "stream",
     "text": [
      "{'name': 'Tedy', 'age': 4, 'toys': ['bear', 'panda'], 'sleep': 10}\n"
     ]
    }
   ],
   "source": [
    "#add new entry\n",
    "baby['sleep'] = 10\n",
    "print(baby)"
   ]
  },
  {
   "cell_type": "markdown",
   "id": "d4c11f29",
   "metadata": {},
   "source": [
    "**Sets**: Like dictionaries, but with unique keys only (no corresponding values). They are: unordered, it-\n",
    "erable, mutable, can contain multiple data types made up of *unique elements* (strings, numbers,\n",
    "or tuples)\n"
   ]
  },
  {
   "cell_type": "code",
   "execution_count": 33,
   "id": "00485082",
   "metadata": {},
   "outputs": [],
   "source": [
    "A = {'x','y','z'}\n",
    "B = {'i','j','k','z'}"
   ]
  },
  {
   "cell_type": "code",
   "execution_count": 34,
   "id": "5e00dbac",
   "metadata": {},
   "outputs": [
    {
     "name": "stdout",
     "output_type": "stream",
     "text": [
      "3\n",
      "4\n"
     ]
    }
   ],
   "source": [
    "print(len(A))\n",
    "print(len(B))"
   ]
  },
  {
   "cell_type": "code",
   "execution_count": 35,
   "id": "1793af65",
   "metadata": {},
   "outputs": [
    {
     "name": "stdout",
     "output_type": "stream",
     "text": [
      "{'k', 'y', 'j', 'i', 'x', 'z'}\n",
      "{'z'}\n",
      "{'y', 'x'}\n"
     ]
    }
   ],
   "source": [
    "#A union B\n",
    "print(A | B)\n",
    "\n",
    "#A intersection B\n",
    "print(A & B)\n",
    "\n",
    "#A/B\n",
    "print(A-B)"
   ]
  },
  {
   "cell_type": "markdown",
   "id": "660c54b0",
   "metadata": {},
   "source": [
    "Summary of basic data types:\n",
    "\n",
    "\\begin{array}{lccr}\n",
    "\\hline & Ordered & Mutable & Iterable \\\\\n",
    "\\hline \n",
    "List & Yes & Yes & Yes \\\\\n",
    "Tuple & Yes & No & Yes \\\\\n",
    "Dict  & No & Yes & Yes\\\\\n",
    "Set & No & Yes & Yes\\\\\n",
    "\\hline\n",
    "\\end{array}"
   ]
  },
  {
   "cell_type": "markdown",
   "id": "bfd65eba",
   "metadata": {},
   "source": [
    "## List Comprehensions"
   ]
  },
  {
   "cell_type": "markdown",
   "id": "0e9d51ca",
   "metadata": {},
   "source": [
    "- Think of it as the process which affects whole lists without iterating through loops. They allow\n",
    "us to concisely form a new list by filtering the elements of a collection.\n",
    "- Do not sacrifice readibility \n",
    "- List comprehension loads the entire output list into memory. This is acceptable or even desirable for small or medium-sized lists because it makes the operation faster. However, when we are working with large lists (e.g. 1 billion elements), list comprehension should be avoided"
   ]
  },
  {
   "cell_type": "markdown",
   "id": "5225f929",
   "metadata": {},
   "source": [
    "**Example**: Given the list numbers = [1,2,3,4,5], create a new list with the cubes of these numbers."
   ]
  },
  {
   "cell_type": "code",
   "execution_count": 36,
   "id": "163d4bd9",
   "metadata": {},
   "outputs": [
    {
     "name": "stdout",
     "output_type": "stream",
     "text": [
      "[1, 8, 27, 64, 125]\n"
     ]
    }
   ],
   "source": [
    "numbers = [1,2,3,4,5]\n",
    "cubes = []\n",
    "#(1)\n",
    "# for nums in numbers:\n",
    "#     cubes.append(nums**3)\n",
    "# print(cubes)\n",
    "\n",
    "#(2)\n",
    "cubes = [i**3 for i in numbers]\n",
    "print(cubes)"
   ]
  },
  {
   "cell_type": "markdown",
   "id": "cfac584d",
   "metadata": {},
   "source": [
    "**Example**: For loop to create a list of cubes of odd numbers"
   ]
  },
  {
   "cell_type": "code",
   "execution_count": 37,
   "id": "ba725ac7",
   "metadata": {},
   "outputs": [
    {
     "name": "stdout",
     "output_type": "stream",
     "text": [
      "[1, 27, 125]\n"
     ]
    }
   ],
   "source": [
    "#odd_cubes = []\n",
    "#(1)\n",
    "# for i in numbers:\n",
    "#     if i%2==1:\n",
    "#         odd_cubes.append(i**3)\n",
    "# print(odd_cubes)\n",
    "\n",
    "#(2)\n",
    "odd_cubes = [i**3 for i in numbers if i%2==1]\n",
    "print(odd_cubes)"
   ]
  },
  {
   "cell_type": "code",
   "execution_count": null,
   "id": "3fe60d7f",
   "metadata": {},
   "outputs": [],
   "source": []
  },
  {
   "cell_type": "markdown",
   "id": "61370f71",
   "metadata": {},
   "source": [
    "## Functions"
   ]
  },
  {
   "cell_type": "markdown",
   "id": "7c6c0a98",
   "metadata": {},
   "source": [
    "- Functions are the primary and most important method of code organization and\n",
    "reuse in Python. As a rule of thumb, if you anticipate needing to repeat the same or\n",
    "very similar code more than once, it may be worth writing a reusable function.\n",
    "- Functions are declared with the **def** keyword and returned from with the **return** keyword"
   ]
  },
  {
   "cell_type": "code",
   "execution_count": 38,
   "id": "5b917eb7",
   "metadata": {},
   "outputs": [],
   "source": [
    "# return the sums of squares of given three numbers\n",
    "def sums_square(a,b,c):\n",
    "    \n",
    "    return a**2 + b**2 + c**2"
   ]
  },
  {
   "cell_type": "code",
   "execution_count": 39,
   "id": "cd891a3b",
   "metadata": {},
   "outputs": [
    {
     "data": {
      "text/plain": [
       "10"
      ]
     },
     "execution_count": 39,
     "metadata": {},
     "output_type": "execute_result"
    }
   ],
   "source": [
    "sums_square(1,0,3)"
   ]
  },
  {
   "cell_type": "markdown",
   "id": "d2171d21",
   "metadata": {},
   "source": [
    "- Each function can have positional arguments and keyword arguments. Keyword argu‐\n",
    "ments are most commonly used to specify default values or optional arguments. \n",
    "- In the following function, a and b are positional arguments while c is a keyword argument.\n",
    "- The main restriction on function arguments is that the keyword arguments must follow the positional arguments (if any)."
   ]
  },
  {
   "cell_type": "code",
   "execution_count": 40,
   "id": "a31ed2a3",
   "metadata": {},
   "outputs": [],
   "source": [
    "def sums_square(a,b,c = 0):\n",
    "    \n",
    "    return a**2 + b**2 + c**2"
   ]
  },
  {
   "cell_type": "code",
   "execution_count": 41,
   "id": "ef22d3d7",
   "metadata": {},
   "outputs": [
    {
     "name": "stdout",
     "output_type": "stream",
     "text": [
      "17\n",
      "17\n"
     ]
    }
   ],
   "source": [
    "print( sums_square(1,4) )\n",
    "\n",
    "print( sums_square(a=1,b=4) )\n"
   ]
  },
  {
   "cell_type": "code",
   "execution_count": 42,
   "id": "512a9b33",
   "metadata": {},
   "outputs": [
    {
     "data": {
      "text/plain": [
       "33"
      ]
     },
     "execution_count": 42,
     "metadata": {},
     "output_type": "execute_result"
    }
   ],
   "source": [
    "sums_square(a=1,b=4,c=4)"
   ]
  },
  {
   "cell_type": "markdown",
   "id": "3b241e06",
   "metadata": {},
   "source": [
    "- One important distinctive property of Python is the ability to return multiple values from a function. \n",
    "- What’s happening here is that the function is actually just returning one object, namely a tuple, which is then being unpacked into the result variables."
   ]
  },
  {
   "cell_type": "code",
   "execution_count": 43,
   "id": "8b6ba389",
   "metadata": {},
   "outputs": [],
   "source": [
    "def func(a,b,c):\n",
    "    sums = a+b+c\n",
    "    prods = a*b*c\n",
    "    \n",
    "    return sums,prods"
   ]
  },
  {
   "cell_type": "code",
   "execution_count": 44,
   "id": "81c71133",
   "metadata": {},
   "outputs": [
    {
     "name": "stdout",
     "output_type": "stream",
     "text": [
      "7\n",
      "8\n"
     ]
    },
    {
     "data": {
      "text/plain": [
       "tuple"
      ]
     },
     "execution_count": 44,
     "metadata": {},
     "output_type": "execute_result"
    }
   ],
   "source": [
    "x,y = func(1,2,4) ## x=sums, y=prods\n",
    "print(x)\n",
    "print(y)\n",
    "type(func(1,2,4))"
   ]
  },
  {
   "cell_type": "code",
   "execution_count": null,
   "id": "c21d6555",
   "metadata": {},
   "outputs": [],
   "source": []
  },
  {
   "cell_type": "markdown",
   "id": "6dc8fa8b",
   "metadata": {},
   "source": [
    "## Interacting with Python Modules"
   ]
  },
  {
   "cell_type": "markdown",
   "id": "19d9da89",
   "metadata": {},
   "source": [
    "- So far, we have relied on simple built-in functionalities of Python. However real value of Python is its extremely rich library content\n",
    "- In addition to these many built-in functions, there are also a large number of predefined functions available as a part of libraries bundled with Python distributions. \n",
    "- These functions are defined in modules which are known as built-in modules. We access the content of these module with **import** statement. Here are the common ways to do it;"
   ]
  },
  {
   "cell_type": "markdown",
   "id": "bcdc196f",
   "metadata": {},
   "source": [
    "- In the first line, import math, you import the code in the math module and make it available to use. In the second line, you access the pi variable within the math module. math is part of Python’s standard library, which means that it’s always available to import whenever we need.\n",
    "- External modules must be installed and then imported. In a typical project, we rely on lots of them such as numpy, pandas etc."
   ]
  },
  {
   "cell_type": "code",
   "execution_count": 45,
   "id": "c1ec605d",
   "metadata": {},
   "outputs": [
    {
     "data": {
      "text/plain": [
       "3.141592653589793"
      ]
     },
     "execution_count": 45,
     "metadata": {},
     "output_type": "execute_result"
    }
   ],
   "source": [
    "import math\n",
    "math.pi"
   ]
  },
  {
   "cell_type": "code",
   "execution_count": 46,
   "id": "c3bb44a7",
   "metadata": {},
   "outputs": [
    {
     "data": {
      "text/plain": [
       "2.718281828459045"
      ]
     },
     "execution_count": 46,
     "metadata": {},
     "output_type": "execute_result"
    }
   ],
   "source": [
    "#e^{1}\n",
    "math.exp(1)"
   ]
  },
  {
   "cell_type": "markdown",
   "id": "4476c93a",
   "metadata": {},
   "source": [
    "The following code imports only the *sqrt* variable from the math module. Now, we can use it without referring to 'math' "
   ]
  },
  {
   "cell_type": "code",
   "execution_count": 47,
   "id": "9c9ece5c",
   "metadata": {},
   "outputs": [
    {
     "data": {
      "text/plain": [
       "6.0"
      ]
     },
     "execution_count": 47,
     "metadata": {},
     "output_type": "execute_result"
    }
   ],
   "source": [
    "from math import sqrt\n",
    "sqrt(36)"
   ]
  },
  {
   "cell_type": "markdown",
   "id": "0a5611f3",
   "metadata": {},
   "source": [
    "It is sometimes very useful to use 'alias' to import modules, especially if the module name is too long. It is good practice to use somewhat descriptive aliases. "
   ]
  },
  {
   "cell_type": "code",
   "execution_count": 48,
   "id": "ff292622",
   "metadata": {},
   "outputs": [
    {
     "data": {
      "text/plain": [
       "3.0"
      ]
     },
     "execution_count": 48,
     "metadata": {},
     "output_type": "execute_result"
    }
   ],
   "source": [
    "import math as m\n",
    "m.sqrt(9)"
   ]
  },
  {
   "cell_type": "code",
   "execution_count": 49,
   "id": "67007b9b",
   "metadata": {},
   "outputs": [],
   "source": [
    "#to see which modules we have. Note that Anaconda comes with tons of them.\n",
    "#help('modules')"
   ]
  },
  {
   "cell_type": "markdown",
   "id": "25b2cb01",
   "metadata": {},
   "source": [
    "Her are few examples"
   ]
  },
  {
   "cell_type": "code",
   "execution_count": 50,
   "id": "59ecbff8",
   "metadata": {},
   "outputs": [],
   "source": [
    "import statistics as stat"
   ]
  },
  {
   "cell_type": "code",
   "execution_count": 51,
   "id": "9eab5fd7",
   "metadata": {},
   "outputs": [
    {
     "name": "stdout",
     "output_type": "stream",
     "text": [
      "['Counter', 'Decimal', 'Fraction', 'NormalDist', 'StatisticsError', '__all__', '__builtins__', '__cached__', '__doc__', '__file__', '__loader__', '__name__', '__package__', '__spec__', '_coerce', '_convert', '_exact_ratio', '_fail_neg', '_find_lteq', '_find_rteq', '_isfinite', '_normal_dist_inv_cdf', '_ss', '_sum', 'bisect_left', 'bisect_right', 'erf', 'exp', 'fabs', 'fmean', 'fsum', 'geometric_mean', 'groupby', 'harmonic_mean', 'hypot', 'itemgetter', 'log', 'math', 'mean', 'median', 'median_grouped', 'median_high', 'median_low', 'mode', 'multimode', 'numbers', 'pstdev', 'pvariance', 'quantiles', 'random', 'sqrt', 'stdev', 'tau', 'variance']\n"
     ]
    }
   ],
   "source": [
    "print(dir(stat))"
   ]
  },
  {
   "cell_type": "code",
   "execution_count": 52,
   "id": "7ce508eb",
   "metadata": {},
   "outputs": [
    {
     "name": "stdout",
     "output_type": "stream",
     "text": [
      "21.571428571428573\n",
      "5\n"
     ]
    }
   ],
   "source": [
    "x = [0,3,5,0,9,45,89]\n",
    "print(stat.mean(x))\n",
    "print(stat.median(x))"
   ]
  },
  {
   "cell_type": "code",
   "execution_count": 53,
   "id": "07ca96ce",
   "metadata": {},
   "outputs": [
    {
     "name": "stdout",
     "output_type": "stream",
     "text": [
      "['CLD_CONTINUED', 'CLD_DUMPED', 'CLD_EXITED', 'CLD_TRAPPED', 'DirEntry', 'EX_CANTCREAT', 'EX_CONFIG', 'EX_DATAERR', 'EX_IOERR', 'EX_NOHOST', 'EX_NOINPUT', 'EX_NOPERM', 'EX_NOUSER', 'EX_OK', 'EX_OSERR', 'EX_OSFILE', 'EX_PROTOCOL', 'EX_SOFTWARE', 'EX_TEMPFAIL', 'EX_UNAVAILABLE', 'EX_USAGE', 'F_LOCK', 'F_OK', 'F_TEST', 'F_TLOCK', 'F_ULOCK', 'GRND_NONBLOCK', 'GRND_RANDOM', 'MFD_ALLOW_SEALING', 'MFD_CLOEXEC', 'MFD_HUGETLB', 'MFD_HUGE_16GB', 'MFD_HUGE_16MB', 'MFD_HUGE_1GB', 'MFD_HUGE_1MB', 'MFD_HUGE_256MB', 'MFD_HUGE_2GB', 'MFD_HUGE_2MB', 'MFD_HUGE_32MB', 'MFD_HUGE_512KB', 'MFD_HUGE_512MB', 'MFD_HUGE_64KB', 'MFD_HUGE_8MB', 'MFD_HUGE_MASK', 'MFD_HUGE_SHIFT', 'MutableMapping', 'NGROUPS_MAX', 'O_ACCMODE', 'O_APPEND', 'O_ASYNC', 'O_CLOEXEC', 'O_CREAT', 'O_DIRECT', 'O_DIRECTORY', 'O_DSYNC', 'O_EXCL', 'O_LARGEFILE', 'O_NDELAY', 'O_NOATIME', 'O_NOCTTY', 'O_NOFOLLOW', 'O_NONBLOCK', 'O_PATH', 'O_RDONLY', 'O_RDWR', 'O_RSYNC', 'O_SYNC', 'O_TMPFILE', 'O_TRUNC', 'O_WRONLY', 'POSIX_FADV_DONTNEED', 'POSIX_FADV_NOREUSE', 'POSIX_FADV_NORMAL', 'POSIX_FADV_RANDOM', 'POSIX_FADV_SEQUENTIAL', 'POSIX_FADV_WILLNEED', 'POSIX_SPAWN_CLOSE', 'POSIX_SPAWN_DUP2', 'POSIX_SPAWN_OPEN', 'PRIO_PGRP', 'PRIO_PROCESS', 'PRIO_USER', 'P_ALL', 'P_NOWAIT', 'P_NOWAITO', 'P_PGID', 'P_PID', 'P_WAIT', 'PathLike', 'RTLD_DEEPBIND', 'RTLD_GLOBAL', 'RTLD_LAZY', 'RTLD_LOCAL', 'RTLD_NODELETE', 'RTLD_NOLOAD', 'RTLD_NOW', 'RWF_DSYNC', 'RWF_HIPRI', 'RWF_NOWAIT', 'RWF_SYNC', 'R_OK', 'SCHED_BATCH', 'SCHED_FIFO', 'SCHED_IDLE', 'SCHED_OTHER', 'SCHED_RESET_ON_FORK', 'SCHED_RR', 'SEEK_CUR', 'SEEK_DATA', 'SEEK_END', 'SEEK_HOLE', 'SEEK_SET', 'ST_APPEND', 'ST_MANDLOCK', 'ST_NOATIME', 'ST_NODEV', 'ST_NODIRATIME', 'ST_NOEXEC', 'ST_NOSUID', 'ST_RDONLY', 'ST_RELATIME', 'ST_SYNCHRONOUS', 'ST_WRITE', 'TMP_MAX', 'WCONTINUED', 'WCOREDUMP', 'WEXITED', 'WEXITSTATUS', 'WIFCONTINUED', 'WIFEXITED', 'WIFSIGNALED', 'WIFSTOPPED', 'WNOHANG', 'WNOWAIT', 'WSTOPPED', 'WSTOPSIG', 'WTERMSIG', 'WUNTRACED', 'W_OK', 'XATTR_CREATE', 'XATTR_REPLACE', 'XATTR_SIZE_MAX', 'X_OK', '_Environ', '__all__', '__builtins__', '__cached__', '__doc__', '__file__', '__loader__', '__name__', '__package__', '__spec__', '_check_methods', '_execvpe', '_exists', '_exit', '_fspath', '_fwalk', '_get_exports_list', '_putenv', '_spawnvef', '_unsetenv', '_wrap_close', 'abc', 'abort', 'access', 'altsep', 'chdir', 'chmod', 'chown', 'chroot', 'close', 'closerange', 'confstr', 'confstr_names', 'copy_file_range', 'cpu_count', 'ctermid', 'curdir', 'defpath', 'device_encoding', 'devnull', 'dup', 'dup2', 'environ', 'environb', 'error', 'execl', 'execle', 'execlp', 'execlpe', 'execv', 'execve', 'execvp', 'execvpe', 'extsep', 'fchdir', 'fchmod', 'fchown', 'fdatasync', 'fdopen', 'fork', 'forkpty', 'fpathconf', 'fsdecode', 'fsencode', 'fspath', 'fstat', 'fstatvfs', 'fsync', 'ftruncate', 'fwalk', 'get_blocking', 'get_exec_path', 'get_inheritable', 'get_terminal_size', 'getcwd', 'getcwdb', 'getegid', 'getenv', 'getenvb', 'geteuid', 'getgid', 'getgrouplist', 'getgroups', 'getloadavg', 'getlogin', 'getpgid', 'getpgrp', 'getpid', 'getppid', 'getpriority', 'getrandom', 'getresgid', 'getresuid', 'getsid', 'getuid', 'getxattr', 'initgroups', 'isatty', 'kill', 'killpg', 'lchown', 'linesep', 'link', 'listdir', 'listxattr', 'lockf', 'lseek', 'lstat', 'major', 'makedev', 'makedirs', 'memfd_create', 'minor', 'mkdir', 'mkfifo', 'mknod', 'name', 'nice', 'open', 'openpty', 'pardir', 'path', 'pathconf', 'pathconf_names', 'pathsep', 'pipe', 'pipe2', 'popen', 'posix_fadvise', 'posix_fallocate', 'posix_spawn', 'posix_spawnp', 'pread', 'preadv', 'putenv', 'pwrite', 'pwritev', 'read', 'readlink', 'readv', 'register_at_fork', 'remove', 'removedirs', 'removexattr', 'rename', 'renames', 'replace', 'rmdir', 'scandir', 'sched_get_priority_max', 'sched_get_priority_min', 'sched_getaffinity', 'sched_getparam', 'sched_getscheduler', 'sched_param', 'sched_rr_get_interval', 'sched_setaffinity', 'sched_setparam', 'sched_setscheduler', 'sched_yield', 'sendfile', 'sep', 'set_blocking', 'set_inheritable', 'setegid', 'seteuid', 'setgid', 'setgroups', 'setpgid', 'setpgrp', 'setpriority', 'setregid', 'setresgid', 'setresuid', 'setreuid', 'setsid', 'setuid', 'setxattr', 'spawnl', 'spawnle', 'spawnlp', 'spawnlpe', 'spawnv', 'spawnve', 'spawnvp', 'spawnvpe', 'st', 'stat', 'stat_result', 'statvfs', 'statvfs_result', 'strerror', 'supports_bytes_environ', 'supports_dir_fd', 'supports_effective_ids', 'supports_fd', 'supports_follow_symlinks', 'symlink', 'sync', 'sys', 'sysconf', 'sysconf_names', 'system', 'tcgetpgrp', 'tcsetpgrp', 'terminal_size', 'times', 'times_result', 'truncate', 'ttyname', 'umask', 'uname', 'uname_result', 'unlink', 'unsetenv', 'urandom', 'utime', 'wait', 'wait3', 'wait4', 'waitid', 'waitid_result', 'waitpid', 'walk', 'write', 'writev']\n"
     ]
    }
   ],
   "source": [
    "#this is super useful. We will see in the future\n",
    "import os\n",
    "print(dir(os))"
   ]
  },
  {
   "cell_type": "code",
   "execution_count": 54,
   "id": "4134eabf",
   "metadata": {},
   "outputs": [
    {
     "name": "stdout",
     "output_type": "stream",
     "text": [
      "['Trial', 'figures', '2_2_Matplotlib.ipynb', '.git', 'A3_Netflix.ipynb', 'A5_Image_Processing_Basics.ipynb', 'A6_Bonus_Widgets.ipynb', 'A2_Insurance_Charges.ipynb', 'A4_Titatic.ipynb', '.gitignore', 'assignment', 'README.md', 'datafiles', '1.PythonBasics.ipynb', 'resources', '2_3_Essential_Modules_Pandas.ipynb', '.ipynb_checkpoints', '2_1_Essential_Modules_Numpy.ipynb', 'WorkshopSchedule.pdf']\n"
     ]
    }
   ],
   "source": [
    "#list all the files in the current directory\n",
    "print(os.listdir())"
   ]
  },
  {
   "cell_type": "code",
   "execution_count": 55,
   "id": "48d44e9a",
   "metadata": {},
   "outputs": [
    {
     "name": "stdout",
     "output_type": "stream",
     "text": [
      "['Trial', 'figures', '2_2_Matplotlib.ipynb', '.git', 'A3_Netflix.ipynb', 'A5_Image_Processing_Basics.ipynb', 'A6_Bonus_Widgets.ipynb', 'A2_Insurance_Charges.ipynb', 'A4_Titatic.ipynb', '.gitignore', 'assignment', 'README.md', 'datafiles', '1.PythonBasics.ipynb', 'resources', '2_3_Essential_Modules_Pandas.ipynb', '.ipynb_checkpoints', '2_1_Essential_Modules_Numpy.ipynb', 'Test', 'WorkshopSchedule.pdf']\n",
      "['Trial', 'figures', '2_2_Matplotlib.ipynb', '.git', 'A3_Netflix.ipynb', 'A5_Image_Processing_Basics.ipynb', 'A6_Bonus_Widgets.ipynb', 'A2_Insurance_Charges.ipynb', 'A4_Titatic.ipynb', '.gitignore', 'assignment', 'README.md', 'datafiles', '1.PythonBasics.ipynb', 'resources', '2_3_Essential_Modules_Pandas.ipynb', '.ipynb_checkpoints', '2_1_Essential_Modules_Numpy.ipynb', 'WorkshopSchedule.pdf']\n"
     ]
    }
   ],
   "source": [
    "os.makedirs('Test',exist_ok=True)\n",
    "print(os.listdir())\n",
    "#rename\n",
    "os.rename('Test','Trial')\n",
    "print(os.listdir())"
   ]
  },
  {
   "cell_type": "markdown",
   "id": "825bc764",
   "metadata": {},
   "source": [
    "## Wrap-up and Examples"
   ]
  },
  {
   "cell_type": "markdown",
   "id": "42b00fe4",
   "metadata": {},
   "source": [
    "**Example-1**: Given $ax^2+bx+c=0$, we know that the solutions are $$x_{1,2} = \\dfrac{-b \\pm \\sqrt{b^2-4ac}}{2b}$$. Write a function that accepts the coefficients and returning the root(s). Check whether the determinant $b^2-4ac$ and print the roots along with the information whether we have two real roots, single root or two complex roots. Test your function for edge cases. Assignment is to return complex roots using 'cmath' module. Also handle $a=0$ case."
   ]
  },
  {
   "cell_type": "code",
   "execution_count": 56,
   "id": "372be0cd",
   "metadata": {},
   "outputs": [],
   "source": [
    "from math import sqrt\n",
    "\n",
    "def Root_Finder(a,b,c):\n",
    "    det = b**2-4*a*c\n",
    "    if det > 0:\n",
    "        r1 = (-b + sqrt(b**2-4*a*c))/(2*a)\n",
    "        r2 = (-b - sqrt(b**2-4*a*c))/(2*a)\n",
    "        print('Two real roots')\n",
    "        return r1,r2\n",
    "    elif det==0:\n",
    "        print('Single root')\n",
    "        r = -b/(2*a)\n",
    "    else:\n",
    "        print('Two complex roots')\n",
    "        "
   ]
  },
  {
   "cell_type": "code",
   "execution_count": 57,
   "id": "6807854e",
   "metadata": {},
   "outputs": [
    {
     "name": "stdout",
     "output_type": "stream",
     "text": [
      "Two real roots\n"
     ]
    },
    {
     "data": {
      "text/plain": [
       "(3.0, 2.0)"
      ]
     },
     "execution_count": 57,
     "metadata": {},
     "output_type": "execute_result"
    }
   ],
   "source": [
    "#x^2-5x+6 = (x-3)(x-2)\n",
    "Root_Finder(1,-5,6)"
   ]
  },
  {
   "cell_type": "markdown",
   "id": "bd76ff9d",
   "metadata": {},
   "source": [
    "**Example-2**\n",
    "(a) Write a function that tests if a number is prime. Return type can be boolen(True or False). Test it by writing out all prime numbers less than 20\n",
    "\n",
    "(b) 500 years ago some believed that the number $2^n - 1$ was prime for all primes n. Use your function to find the first prime $n$ for which this is not true.\n"
   ]
  },
  {
   "cell_type": "code",
   "execution_count": 58,
   "id": "bfbdbf57",
   "metadata": {},
   "outputs": [
    {
     "name": "stdout",
     "output_type": "stream",
     "text": [
      "11 is a prime number\n"
     ]
    }
   ],
   "source": [
    "# If num is divisible by any number between # 2 and n / 2, it is not prime\n",
    "n = 11\n",
    "result = True\n",
    "for i in range(2,int(n/2)+1):\n",
    "    if n%i==0:\n",
    "        print(f'{n} is not a prime number')\n",
    "        result = False\n",
    "        break\n",
    "if result:\n",
    "    print(f'{n} is a prime number')"
   ]
  },
  {
   "cell_type": "code",
   "execution_count": 59,
   "id": "b1372b92",
   "metadata": {},
   "outputs": [
    {
     "data": {
      "text/plain": [
       "False"
      ]
     },
     "execution_count": 59,
     "metadata": {},
     "output_type": "execute_result"
    }
   ],
   "source": [
    "#(a)\n",
    "def IsPrime(n):\n",
    "    result = True\n",
    "    for i in range(2,int(n/2)+1):\n",
    "        if n%i==0:\n",
    "            #print(f'{n} is not a prime number')\n",
    "            result = False\n",
    "            break\n",
    "    \n",
    "    return result\n",
    "IsPrime(4)"
   ]
  },
  {
   "cell_type": "code",
   "execution_count": 60,
   "id": "93d95064",
   "metadata": {},
   "outputs": [
    {
     "name": "stdout",
     "output_type": "stream",
     "text": [
      "If n=2 then 2^n-1 = 3 is a prime\n",
      "If n=3 then 2^n-1 = 7 is a prime\n",
      "If n=5 then 2^n-1 = 31 is a prime\n",
      "If n=7 then 2^n-1 = 127 is a prime\n",
      "If n=11 then 2^n-1 = 2047 is NOT a prime\n",
      "If n=13 then 2^n-1 = 8191 is a prime\n",
      "If n=17 then 2^n-1 = 131071 is a prime\n",
      "If n=19 then 2^n-1 = 524287 is a prime\n"
     ]
    }
   ],
   "source": [
    "#(b)\n",
    "max_int = 20\n",
    "for n in range(2,max_int):\n",
    "    if IsPrime(n):\n",
    "        #now n is prime, compute mersenne number\n",
    "        mersenne = 2**n-1\n",
    "        #now test if mersennes is prime\n",
    "        if IsPrime(mersenne):\n",
    "            print(f'If n={n} then 2^n-1 = {mersenne} is a prime')\n",
    "        else:\n",
    "            print(f'If n={n} then 2^n-1 = {mersenne} is NOT a prime')\n",
    "            #break\n",
    "            "
   ]
  },
  {
   "cell_type": "markdown",
   "id": "361c2baa",
   "metadata": {},
   "source": [
    "**Example-3**: Write a function to compute all prime factors of an integer n, including their multiplicities. Use dictionary with key is the prime factor and the value is the multiplicity."
   ]
  },
  {
   "cell_type": "code",
   "execution_count": 61,
   "id": "cc19f69c",
   "metadata": {},
   "outputs": [],
   "source": [
    "#prime factors without multiplicity\n",
    "def PrimeFactor(n):\n",
    "    prime_factors = []\n",
    "    for i in range(2,int(n/2)+1):\n",
    "        if IsPrime(i) and n%i==0:\n",
    "            prime_factors.append(i)    \n",
    "    return prime_factors\n",
    "            \n",
    "\n",
    "\n",
    "# Then for every prime factor, find the highest power of it that divides n and assign as value\n",
    "def PrimeFactor(n):\n",
    "    prime_factors = {}\n",
    "    for i in range(2,int(n/2)+1):\n",
    "        if PrimeFinder(i) and n%i==0:\n",
    "            N = 0\n",
    "            while n%i**(N+1)==0:\n",
    "                N = N+1\n",
    "            prime_factors[i] = N\n",
    "            \n",
    "    \n",
    "    return prime_factors\n",
    "            "
   ]
  },
  {
   "cell_type": "markdown",
   "id": "2a2e3db8",
   "metadata": {
    "scrolled": true
   },
   "source": [
    "**Example-4**: Filter out the names including the letter 'a'. Imagine this list has 10K names...Regular expression."
   ]
  },
  {
   "cell_type": "code",
   "execution_count": 62,
   "id": "9e3433e7",
   "metadata": {},
   "outputs": [
    {
     "name": "stdout",
     "output_type": "stream",
     "text": [
      "['banana', 'orange', 'mango']\n",
      "['banana', 'orange', 'mango']\n"
     ]
    }
   ],
   "source": [
    "#names = ['anne','bert','margaret','tim','laila','lilly']\n",
    "#for loop\n",
    "newlist = []\n",
    "for name in names:\n",
    "    if 'a' in name:\n",
    "        newlist.append(name)\n",
    "print(newlist)\n",
    "\n",
    "#list-compherension\n",
    "newlist = [name for name in names if 'a' in name]\n",
    "print(newlist)"
   ]
  },
  {
   "cell_type": "markdown",
   "id": "4f33ec25",
   "metadata": {},
   "source": [
    "**Example-5**: Given a name list, make a sublist consisting of names starting with the letter 'a'. First workout the following example."
   ]
  },
  {
   "cell_type": "code",
   "execution_count": 63,
   "id": "b52502e3",
   "metadata": {},
   "outputs": [
    {
     "name": "stdout",
     "output_type": "stream",
     "text": [
      "erdi\n",
      "False\n",
      "True\n"
     ]
    }
   ],
   "source": [
    "myname = 'Erdi'\n",
    "print(myname.lower())\n",
    "print(myname.startswith('e'))\n",
    "print(myname.lower().startswith('e'))"
   ]
  },
  {
   "cell_type": "code",
   "execution_count": 64,
   "id": "389c7e3a",
   "metadata": {},
   "outputs": [
    {
     "name": "stdout",
     "output_type": "stream",
     "text": [
      "['Anne', 'antony', 'Aaron']\n"
     ]
    }
   ],
   "source": [
    "names = ['Anne','antony','Margaret','Aaron','Laila']\n",
    "a_names = [name for name in names if name.lower().startswith('a')]\n",
    "print(a_names)"
   ]
  },
  {
   "cell_type": "markdown",
   "id": "409558f0",
   "metadata": {},
   "source": [
    "**Ex-5** Define a piece-wise defined function and evaluate some values\n",
    "$$\n",
    "f(x)=\n",
    "\\begin{cases}\n",
    "x\\sin(x^2)& x<0\\\\\n",
    "\\cos(x) & 0\\le x \\le 2\\pi \\\\\n",
    "2x-1& x>2\n",
    "\\end{cases}\n",
    "$$"
   ]
  },
  {
   "cell_type": "code",
   "execution_count": 65,
   "id": "c7861b03",
   "metadata": {},
   "outputs": [],
   "source": [
    "from math import sin,cos,pi\n",
    "def f(x):\n",
    "    if x<0:\n",
    "        return x*sin(x**2)\n",
    "    elif (x>=0) and (x<=2*pi):\n",
    "        return cos(x)\n",
    "    else:\n",
    "        return 2*x-1"
   ]
  },
  {
   "cell_type": "code",
   "execution_count": 66,
   "id": "dd796f39",
   "metadata": {},
   "outputs": [
    {
     "data": {
      "text/plain": [
       "1.3518311421582356"
      ]
     },
     "execution_count": 66,
     "metadata": {},
     "output_type": "execute_result"
    }
   ],
   "source": [
    "f(-pi)"
   ]
  },
  {
   "cell_type": "code",
   "execution_count": null,
   "id": "a22bd633",
   "metadata": {},
   "outputs": [],
   "source": []
  }
 ],
 "metadata": {
  "kernelspec": {
   "display_name": "Python 3 (ipykernel)",
   "language": "python",
   "name": "python3"
  },
  "language_info": {
   "codemirror_mode": {
    "name": "ipython",
    "version": 3
   },
   "file_extension": ".py",
   "mimetype": "text/x-python",
   "name": "python",
   "nbconvert_exporter": "python",
   "pygments_lexer": "ipython3",
   "version": "3.8.10"
  },
  "latex_envs": {
   "LaTeX_envs_menu_present": true,
   "autoclose": false,
   "autocomplete": false,
   "bibliofile": "biblio.bib",
   "cite_by": "apalike",
   "current_citInitial": 1,
   "eqLabelWithNumbers": true,
   "eqNumInitial": 1,
   "hotkeys": {
    "equation": "Ctrl-E",
    "itemize": "Ctrl-I"
   },
   "labels_anchors": false,
   "latex_user_defs": false,
   "report_style_numbering": false,
   "user_envs_cfg": false
  },
  "toc": {
   "base_numbering": 1,
   "nav_menu": {},
   "number_sections": true,
   "sideBar": true,
   "skip_h1_title": false,
   "title_cell": "Table of Contents",
   "title_sidebar": "Contents",
   "toc_cell": true,
   "toc_position": {
    "height": "calc(100% - 180px)",
    "left": "10px",
    "top": "150px",
    "width": "377px"
   },
   "toc_section_display": true,
   "toc_window_display": true
  }
 },
 "nbformat": 4,
 "nbformat_minor": 5
}
