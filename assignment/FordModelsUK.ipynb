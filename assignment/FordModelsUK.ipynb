{
 "cells": [
  {
   "cell_type": "markdown",
   "id": "fae4cc3b",
   "metadata": {},
   "source": [
    "This notebook explains your workshop assignment. Here are few rules;\n",
    "\n",
    "- Please do not change the original dataset *\"ford_models_UK.csv\"* file. Do not delete, add, or modify any entry. Simply keep it as it is.\n",
    "\n",
    "\n",
    "- Use this Jupyter file to make your submission. If the question requires a text answer, enter it in the same text block with the question. Click on the question cell to activate the text option \n",
    "\n",
    "\n",
    "- If question is about coding, enter your code into the block right after the question. Your code must be in a single code block.\n",
    "\n",
    "\n",
    "- In question where you should produce a figure, I already created those figures and add them in figures folder. I referred to those files in the corresponsing questions. Make sure you produce the same figures.\n",
    "\n",
    "\n",
    "- Do not delete the questions or comments in the notebook.\n",
    "\n",
    "\n",
    "- Once you are done, name your file as **name_surname** and click to the link below to submit your Jupyter notebook. Make your submission before the deadline set by Data Science Initiative. You are welcome to use any resources.\n",
    "\n",
    "\n",
    "\n",
    "- [SUBMISSION LINK](https://forms.gle/PJqqrmVebgdK8QA87)\n",
    "\n"
   ]
  },
  {
   "cell_type": "markdown",
   "id": "f8b4c5ae",
   "metadata": {},
   "source": [
    "You will work on a dataset including some used Ford models sold in UK. Full dataset is [here](https://www.kaggle.com/datasets/adityadesai13/used-car-dataset-ford-and-mercedes/discussion/209170). I created a smaller version of it. Let's read it and see what we have; "
   ]
  },
  {
   "cell_type": "code",
   "execution_count": 1,
   "id": "69d8f681",
   "metadata": {},
   "outputs": [],
   "source": [
    "import pandas as pd\n",
    "import numpy as np\n",
    "import matplotlib.pyplot as plt\n",
    "import seaborn as sns\n",
    "%matplotlib inline"
   ]
  },
  {
   "cell_type": "code",
   "execution_count": 2,
   "id": "aa9e32ae",
   "metadata": {},
   "outputs": [
    {
     "data": {
      "text/html": [
       "<div>\n",
       "<style scoped>\n",
       "    .dataframe tbody tr th:only-of-type {\n",
       "        vertical-align: middle;\n",
       "    }\n",
       "\n",
       "    .dataframe tbody tr th {\n",
       "        vertical-align: top;\n",
       "    }\n",
       "\n",
       "    .dataframe thead th {\n",
       "        text-align: right;\n",
       "    }\n",
       "</style>\n",
       "<table border=\"1\" class=\"dataframe\">\n",
       "  <thead>\n",
       "    <tr style=\"text-align: right;\">\n",
       "      <th></th>\n",
       "      <th>model</th>\n",
       "      <th>year</th>\n",
       "      <th>transmission</th>\n",
       "      <th>mileage</th>\n",
       "      <th>fuelType</th>\n",
       "      <th>tax</th>\n",
       "      <th>mpg</th>\n",
       "      <th>engineSize</th>\n",
       "      <th>price</th>\n",
       "    </tr>\n",
       "  </thead>\n",
       "  <tbody>\n",
       "    <tr>\n",
       "      <th>0</th>\n",
       "      <td>Fiesta</td>\n",
       "      <td>2017</td>\n",
       "      <td>Automatic</td>\n",
       "      <td>15944</td>\n",
       "      <td>Petrol</td>\n",
       "      <td>150</td>\n",
       "      <td>57.7</td>\n",
       "      <td>1.0</td>\n",
       "      <td>12000.0</td>\n",
       "    </tr>\n",
       "    <tr>\n",
       "      <th>1</th>\n",
       "      <td>Focus</td>\n",
       "      <td>2018</td>\n",
       "      <td>Manual</td>\n",
       "      <td>9083</td>\n",
       "      <td>Petrol</td>\n",
       "      <td>150</td>\n",
       "      <td>57.7</td>\n",
       "      <td>1.0</td>\n",
       "      <td>14000.0</td>\n",
       "    </tr>\n",
       "    <tr>\n",
       "      <th>2</th>\n",
       "      <td>Focus</td>\n",
       "      <td>2017</td>\n",
       "      <td>Manual</td>\n",
       "      <td>12456</td>\n",
       "      <td>Petrol</td>\n",
       "      <td>150</td>\n",
       "      <td>57.7</td>\n",
       "      <td>1.0</td>\n",
       "      <td>13000.0</td>\n",
       "    </tr>\n",
       "    <tr>\n",
       "      <th>3</th>\n",
       "      <td>Fiesta</td>\n",
       "      <td>2019</td>\n",
       "      <td>Manual</td>\n",
       "      <td>10460</td>\n",
       "      <td>Petrol</td>\n",
       "      <td>145</td>\n",
       "      <td>40.3</td>\n",
       "      <td>1.5</td>\n",
       "      <td>17500.0</td>\n",
       "    </tr>\n",
       "    <tr>\n",
       "      <th>4</th>\n",
       "      <td>Fiesta</td>\n",
       "      <td>2019</td>\n",
       "      <td>Automatic</td>\n",
       "      <td>1482</td>\n",
       "      <td>Petrol</td>\n",
       "      <td>145</td>\n",
       "      <td>48.7</td>\n",
       "      <td>1.0</td>\n",
       "      <td>16500.0</td>\n",
       "    </tr>\n",
       "    <tr>\n",
       "      <th>...</th>\n",
       "      <td>...</td>\n",
       "      <td>...</td>\n",
       "      <td>...</td>\n",
       "      <td>...</td>\n",
       "      <td>...</td>\n",
       "      <td>...</td>\n",
       "      <td>...</td>\n",
       "      <td>...</td>\n",
       "      <td>...</td>\n",
       "    </tr>\n",
       "    <tr>\n",
       "      <th>16062</th>\n",
       "      <td>EcoSport</td>\n",
       "      <td>2015</td>\n",
       "      <td>Manual</td>\n",
       "      <td>46123</td>\n",
       "      <td>Petrol</td>\n",
       "      <td>125</td>\n",
       "      <td>53.3</td>\n",
       "      <td>1.0</td>\n",
       "      <td>7650.0</td>\n",
       "    </tr>\n",
       "    <tr>\n",
       "      <th>16063</th>\n",
       "      <td>C-MAX</td>\n",
       "      <td>2019</td>\n",
       "      <td>Manual</td>\n",
       "      <td>13359</td>\n",
       "      <td>Petrol</td>\n",
       "      <td>145</td>\n",
       "      <td>48.7</td>\n",
       "      <td>1.0</td>\n",
       "      <td>13250.0</td>\n",
       "    </tr>\n",
       "    <tr>\n",
       "      <th>16064</th>\n",
       "      <td>C-MAX</td>\n",
       "      <td>2016</td>\n",
       "      <td>Manual</td>\n",
       "      <td>35637</td>\n",
       "      <td>Diesel</td>\n",
       "      <td>20</td>\n",
       "      <td>68.9</td>\n",
       "      <td>1.5</td>\n",
       "      <td>9299.0</td>\n",
       "    </tr>\n",
       "    <tr>\n",
       "      <th>16065</th>\n",
       "      <td>Fiesta</td>\n",
       "      <td>2016</td>\n",
       "      <td>Manual</td>\n",
       "      <td>31348</td>\n",
       "      <td>Petrol</td>\n",
       "      <td>125</td>\n",
       "      <td>54.3</td>\n",
       "      <td>1.2</td>\n",
       "      <td>7999.0</td>\n",
       "    </tr>\n",
       "    <tr>\n",
       "      <th>16066</th>\n",
       "      <td>Focus</td>\n",
       "      <td>2015</td>\n",
       "      <td>Manual</td>\n",
       "      <td>7010</td>\n",
       "      <td>Diesel</td>\n",
       "      <td>20</td>\n",
       "      <td>67.3</td>\n",
       "      <td>1.6</td>\n",
       "      <td>9999.0</td>\n",
       "    </tr>\n",
       "  </tbody>\n",
       "</table>\n",
       "<p>16067 rows × 9 columns</p>\n",
       "</div>"
      ],
      "text/plain": [
       "          model  year transmission  mileage fuelType  tax   mpg  engineSize  \\\n",
       "0        Fiesta  2017    Automatic    15944   Petrol  150  57.7         1.0   \n",
       "1         Focus  2018       Manual     9083   Petrol  150  57.7         1.0   \n",
       "2         Focus  2017       Manual    12456   Petrol  150  57.7         1.0   \n",
       "3        Fiesta  2019       Manual    10460   Petrol  145  40.3         1.5   \n",
       "4        Fiesta  2019    Automatic     1482   Petrol  145  48.7         1.0   \n",
       "...         ...   ...          ...      ...      ...  ...   ...         ...   \n",
       "16062  EcoSport  2015       Manual    46123   Petrol  125  53.3         1.0   \n",
       "16063     C-MAX  2019       Manual    13359   Petrol  145  48.7         1.0   \n",
       "16064     C-MAX  2016       Manual    35637   Diesel   20  68.9         1.5   \n",
       "16065    Fiesta  2016       Manual    31348   Petrol  125  54.3         1.2   \n",
       "16066     Focus  2015       Manual     7010   Diesel   20  67.3         1.6   \n",
       "\n",
       "         price  \n",
       "0      12000.0  \n",
       "1      14000.0  \n",
       "2      13000.0  \n",
       "3      17500.0  \n",
       "4      16500.0  \n",
       "...        ...  \n",
       "16062   7650.0  \n",
       "16063  13250.0  \n",
       "16064   9299.0  \n",
       "16065   7999.0  \n",
       "16066   9999.0  \n",
       "\n",
       "[16067 rows x 9 columns]"
      ]
     },
     "execution_count": 2,
     "metadata": {},
     "output_type": "execute_result"
    }
   ],
   "source": [
    "df = pd.read_csv('new_ford.csv')\n",
    "df"
   ]
  },
  {
   "cell_type": "markdown",
   "id": "23acafc2",
   "metadata": {},
   "source": [
    "Explanation of the columns is as follows;\n",
    "\n",
    "**model**: several makes avaliable in UK market. There are 7 models in this data \\\n",
    "**year**: the production year of the car  \\\n",
    "**price**: price in terms of paund \\\n",
    "**tranmission**: transmission type. Automatic, manual or semi-auto. \\\n",
    "**milage**: total distance travalled \\\n",
    "**fuelType**: type of fuel used, five types.\\\n",
    "**tax**: road tax(offically Vehicle Excise Duty (VED)). This is annual tax which must be paid by most vehicles. \\\n",
    "**mpg**: the distance, measured in miles, that a car can travel per gallon of fuel. Numbers are too high here due to some conversion issues I guess, assume that they are correct. \\\n",
    "**engineSiz**e: the amount of space (volume) in the cylinders. \\"
   ]
  },
  {
   "cell_type": "markdown",
   "id": "baa728ef",
   "metadata": {},
   "source": [
    "## General Questions"
   ]
  },
  {
   "cell_type": "code",
   "execution_count": 3,
   "id": "56158365",
   "metadata": {},
   "outputs": [
    {
     "name": "stdout",
     "output_type": "stream",
     "text": [
      "<class 'pandas.core.frame.DataFrame'>\n",
      "RangeIndex: 16067 entries, 0 to 16066\n",
      "Data columns (total 9 columns):\n",
      " #   Column        Non-Null Count  Dtype  \n",
      "---  ------        --------------  -----  \n",
      " 0   model         16067 non-null  object \n",
      " 1   year          16067 non-null  int64  \n",
      " 2   transmission  16064 non-null  object \n",
      " 3   mileage       16067 non-null  int64  \n",
      " 4   fuelType      16064 non-null  object \n",
      " 5   tax           16067 non-null  int64  \n",
      " 6   mpg           16067 non-null  float64\n",
      " 7   engineSize    16067 non-null  float64\n",
      " 8   price         16063 non-null  float64\n",
      "dtypes: float64(3), int64(3), object(3)\n",
      "memory usage: 1.1+ MB\n"
     ]
    }
   ],
   "source": [
    "df.info()"
   ]
  },
  {
   "cell_type": "markdown",
   "id": "76dc1739",
   "metadata": {},
   "source": [
    "Answer the following question based on the ouput above \\"
   ]
  },
  {
   "cell_type": "markdown",
   "id": "d1499eb4",
   "metadata": {},
   "source": [
    "    - How many rows and columns are there in this dataset? \\\n",
    "\n"
   ]
  },
  {
   "cell_type": "markdown",
   "id": "caead591",
   "metadata": {},
   "source": [
    "    - Which columns have numerical values? Which columns have categorical values? \\\n"
   ]
  },
  {
   "cell_type": "code",
   "execution_count": 6,
   "id": "617a71fb",
   "metadata": {},
   "outputs": [
    {
     "data": {
      "text/html": [
       "<div>\n",
       "<style scoped>\n",
       "    .dataframe tbody tr th:only-of-type {\n",
       "        vertical-align: middle;\n",
       "    }\n",
       "\n",
       "    .dataframe tbody tr th {\n",
       "        vertical-align: top;\n",
       "    }\n",
       "\n",
       "    .dataframe thead th {\n",
       "        text-align: right;\n",
       "    }\n",
       "</style>\n",
       "<table border=\"1\" class=\"dataframe\">\n",
       "  <thead>\n",
       "    <tr style=\"text-align: right;\">\n",
       "      <th></th>\n",
       "      <th>model</th>\n",
       "      <th>year</th>\n",
       "      <th>transmission</th>\n",
       "      <th>mileage</th>\n",
       "      <th>fuelType</th>\n",
       "      <th>tax</th>\n",
       "      <th>mpg</th>\n",
       "      <th>engineSize</th>\n",
       "      <th>price</th>\n",
       "    </tr>\n",
       "  </thead>\n",
       "  <tbody>\n",
       "    <tr>\n",
       "      <th>count</th>\n",
       "      <td>16067</td>\n",
       "      <td>16067.000000</td>\n",
       "      <td>16064</td>\n",
       "      <td>16067.000000</td>\n",
       "      <td>16064</td>\n",
       "      <td>16067.000000</td>\n",
       "      <td>16067.000000</td>\n",
       "      <td>16067.000000</td>\n",
       "      <td>16063.000000</td>\n",
       "    </tr>\n",
       "    <tr>\n",
       "      <th>unique</th>\n",
       "      <td>7</td>\n",
       "      <td>NaN</td>\n",
       "      <td>3</td>\n",
       "      <td>NaN</td>\n",
       "      <td>4</td>\n",
       "      <td>NaN</td>\n",
       "      <td>NaN</td>\n",
       "      <td>NaN</td>\n",
       "      <td>NaN</td>\n",
       "    </tr>\n",
       "    <tr>\n",
       "      <th>top</th>\n",
       "      <td>Fiesta</td>\n",
       "      <td>NaN</td>\n",
       "      <td>Manual</td>\n",
       "      <td>NaN</td>\n",
       "      <td>Petrol</td>\n",
       "      <td>NaN</td>\n",
       "      <td>NaN</td>\n",
       "      <td>NaN</td>\n",
       "      <td>NaN</td>\n",
       "    </tr>\n",
       "    <tr>\n",
       "      <th>freq</th>\n",
       "      <td>6538</td>\n",
       "      <td>NaN</td>\n",
       "      <td>14156</td>\n",
       "      <td>NaN</td>\n",
       "      <td>11389</td>\n",
       "      <td>NaN</td>\n",
       "      <td>NaN</td>\n",
       "      <td>NaN</td>\n",
       "      <td>NaN</td>\n",
       "    </tr>\n",
       "    <tr>\n",
       "      <th>mean</th>\n",
       "      <td>NaN</td>\n",
       "      <td>2016.938445</td>\n",
       "      <td>NaN</td>\n",
       "      <td>22867.599552</td>\n",
       "      <td>NaN</td>\n",
       "      <td>112.647663</td>\n",
       "      <td>58.549742</td>\n",
       "      <td>1.314969</td>\n",
       "      <td>11998.046442</td>\n",
       "    </tr>\n",
       "    <tr>\n",
       "      <th>std</th>\n",
       "      <td>NaN</td>\n",
       "      <td>1.985446</td>\n",
       "      <td>NaN</td>\n",
       "      <td>19158.927566</td>\n",
       "      <td>NaN</td>\n",
       "      <td>61.238600</td>\n",
       "      <td>9.997252</td>\n",
       "      <td>0.374376</td>\n",
       "      <td>4142.455815</td>\n",
       "    </tr>\n",
       "    <tr>\n",
       "      <th>min</th>\n",
       "      <td>NaN</td>\n",
       "      <td>1998.000000</td>\n",
       "      <td>NaN</td>\n",
       "      <td>1.000000</td>\n",
       "      <td>NaN</td>\n",
       "      <td>0.000000</td>\n",
       "      <td>26.300000</td>\n",
       "      <td>1.000000</td>\n",
       "      <td>495.000000</td>\n",
       "    </tr>\n",
       "    <tr>\n",
       "      <th>25%</th>\n",
       "      <td>NaN</td>\n",
       "      <td>2016.000000</td>\n",
       "      <td>NaN</td>\n",
       "      <td>9862.000000</td>\n",
       "      <td>NaN</td>\n",
       "      <td>30.000000</td>\n",
       "      <td>53.300000</td>\n",
       "      <td>1.000000</td>\n",
       "      <td>9000.000000</td>\n",
       "    </tr>\n",
       "    <tr>\n",
       "      <th>50%</th>\n",
       "      <td>NaN</td>\n",
       "      <td>2017.000000</td>\n",
       "      <td>NaN</td>\n",
       "      <td>17693.000000</td>\n",
       "      <td>NaN</td>\n",
       "      <td>145.000000</td>\n",
       "      <td>58.900000</td>\n",
       "      <td>1.200000</td>\n",
       "      <td>11140.000000</td>\n",
       "    </tr>\n",
       "    <tr>\n",
       "      <th>75%</th>\n",
       "      <td>NaN</td>\n",
       "      <td>2018.000000</td>\n",
       "      <td>NaN</td>\n",
       "      <td>30289.000000</td>\n",
       "      <td>NaN</td>\n",
       "      <td>145.000000</td>\n",
       "      <td>65.700000</td>\n",
       "      <td>1.500000</td>\n",
       "      <td>14982.500000</td>\n",
       "    </tr>\n",
       "    <tr>\n",
       "      <th>max</th>\n",
       "      <td>NaN</td>\n",
       "      <td>2060.000000</td>\n",
       "      <td>NaN</td>\n",
       "      <td>177644.000000</td>\n",
       "      <td>NaN</td>\n",
       "      <td>555.000000</td>\n",
       "      <td>201.800000</td>\n",
       "      <td>5.000000</td>\n",
       "      <td>54995.000000</td>\n",
       "    </tr>\n",
       "  </tbody>\n",
       "</table>\n",
       "</div>"
      ],
      "text/plain": [
       "         model          year transmission        mileage fuelType  \\\n",
       "count    16067  16067.000000        16064   16067.000000    16064   \n",
       "unique       7           NaN            3            NaN        4   \n",
       "top     Fiesta           NaN       Manual            NaN   Petrol   \n",
       "freq      6538           NaN        14156            NaN    11389   \n",
       "mean       NaN   2016.938445          NaN   22867.599552      NaN   \n",
       "std        NaN      1.985446          NaN   19158.927566      NaN   \n",
       "min        NaN   1998.000000          NaN       1.000000      NaN   \n",
       "25%        NaN   2016.000000          NaN    9862.000000      NaN   \n",
       "50%        NaN   2017.000000          NaN   17693.000000      NaN   \n",
       "75%        NaN   2018.000000          NaN   30289.000000      NaN   \n",
       "max        NaN   2060.000000          NaN  177644.000000      NaN   \n",
       "\n",
       "                 tax           mpg    engineSize         price  \n",
       "count   16067.000000  16067.000000  16067.000000  16063.000000  \n",
       "unique           NaN           NaN           NaN           NaN  \n",
       "top              NaN           NaN           NaN           NaN  \n",
       "freq             NaN           NaN           NaN           NaN  \n",
       "mean      112.647663     58.549742      1.314969  11998.046442  \n",
       "std        61.238600      9.997252      0.374376   4142.455815  \n",
       "min         0.000000     26.300000      1.000000    495.000000  \n",
       "25%        30.000000     53.300000      1.000000   9000.000000  \n",
       "50%       145.000000     58.900000      1.200000  11140.000000  \n",
       "75%       145.000000     65.700000      1.500000  14982.500000  \n",
       "max       555.000000    201.800000      5.000000  54995.000000  "
      ]
     },
     "execution_count": 6,
     "metadata": {},
     "output_type": "execute_result"
    }
   ],
   "source": [
    "df.describe(include = 'all')"
   ]
  },
  {
   "cell_type": "markdown",
   "id": "af7d268d",
   "metadata": {},
   "source": [
    "- Answer the following questions based on the table above;"
   ]
  },
  {
   "cell_type": "markdown",
   "id": "2eef9859",
   "metadata": {},
   "source": [
    "    - What are the most common fuel type and most common model type? \\\n"
   ]
  },
  {
   "cell_type": "markdown",
   "id": "c2f662aa",
   "metadata": {},
   "source": [
    "    - What are the most expensive and cheapest car prices? \\\n"
   ]
  },
  {
   "cell_type": "markdown",
   "id": "2d5f24fa",
   "metadata": {},
   "source": [
    "    - Do you spot any strange value in the production year column? Explain \\\n"
   ]
  },
  {
   "cell_type": "markdown",
   "id": "5b661d79",
   "metadata": {},
   "source": [
    "    - As we see above, std for price col is 4140 pounds. Explain what this means. \\\n",
    "\n"
   ]
  },
  {
   "cell_type": "markdown",
   "id": "6579a053",
   "metadata": {},
   "source": [
    "## Qualitative Questions "
   ]
  },
  {
   "cell_type": "markdown",
   "id": "c69fa9e2",
   "metadata": {},
   "source": [
    "    - 0.Display all rows between row2 and row6 inclusive."
   ]
  },
  {
   "cell_type": "code",
   "execution_count": null,
   "id": "b6bcbb14",
   "metadata": {},
   "outputs": [],
   "source": []
  },
  {
   "cell_type": "markdown",
   "id": "a3e098ac",
   "metadata": {},
   "source": [
    "    - 1.Display the information of all Fiesta models."
   ]
  },
  {
   "cell_type": "code",
   "execution_count": null,
   "id": "771f1dd8",
   "metadata": {},
   "outputs": [],
   "source": []
  },
  {
   "cell_type": "markdown",
   "id": "be3f37c3",
   "metadata": {},
   "source": [
    "    - 2.Display the two rows that include the most expensive and the cheapest cars? Hint: idxmax/idmin"
   ]
  },
  {
   "cell_type": "code",
   "execution_count": null,
   "id": "91c28803",
   "metadata": {},
   "outputs": [],
   "source": []
  },
  {
   "cell_type": "markdown",
   "id": "3e4c73da",
   "metadata": {},
   "source": [
    "    - 3.Display all the rows of Focus cars with Diesel fuel type?"
   ]
  },
  {
   "cell_type": "code",
   "execution_count": null,
   "id": "6456dcf9",
   "metadata": {},
   "outputs": [],
   "source": []
  },
  {
   "cell_type": "markdown",
   "id": "dae0a5a7",
   "metadata": {},
   "source": [
    "    - 4.Display all the rows of Automatic cars having price cheaper then 20K pounds and more expensive than 18K pounds "
   ]
  },
  {
   "cell_type": "code",
   "execution_count": null,
   "id": "b504030a",
   "metadata": {},
   "outputs": [],
   "source": []
  },
  {
   "cell_type": "markdown",
   "id": "3b4d9c7a",
   "metadata": {},
   "source": [
    "    - 5.Using \"groupby\"  and \"value_counts(normalize=True)\" to display the percentage distribution of car models in terms of transmission. Your output must look like as follows. What percentage of Focus cars are manual? What percentage of Mondeo cars is Semi-Auto?"
   ]
  },
  {
   "cell_type": "markdown",
   "id": "0289f457",
   "metadata": {},
   "source": [
    "\n",
    "\n",
    "        model     transmission\n",
    "\n",
    "        C-MAX     Manual          0.852126\n",
    "                  Automatic       0.085028\n",
    "                  Semi-Auto       0.062847\n",
    "        EcoSport  Manual          0.866079\n",
    "                  Semi-Auto       0.080176\n",
    "                  Automatic       0.053744\n",
    "        Fiesta    Manual          0.927960\n",
    "                  Semi-Auto       0.044050\n",
    "                  Automatic       0.027990\n",
    "        Focus     Manual          0.874590\n",
    "                  Automatic       0.090671\n",
    "                  Semi-Auto       0.034739\n",
    "        Ka+       Manual          1.000000\n",
    "        Kuga      Manual          0.784975\n",
    "                  Automatic       0.119208\n",
    "                  Semi-Auto       0.095816\n",
    "        Mondeo    Manual          0.707457\n",
    "                  Automatic       0.227533\n",
    "                  Semi-Auto       0.065010\n",
    "        Name: transmission, dtype: float64"
   ]
  },
  {
   "cell_type": "code",
   "execution_count": null,
   "id": "b841fbeb",
   "metadata": {},
   "outputs": [],
   "source": [
    "#5 comes here\n"
   ]
  },
  {
   "cell_type": "markdown",
   "id": "570bdcd7",
   "metadata": {},
   "source": [
    "    - 6.Using \"groupby\" command, display the percentage distribution of \"transmission\" type in terms of fuelType. Your output must look like as follows;"
   ]
  },
  {
   "cell_type": "markdown",
   "id": "2e9c8da5",
   "metadata": {},
   "source": [
    "        transmission  fuelType\n",
    "\n",
    "        Automatic     Petrol      0.642463\n",
    "                      Diesel      0.339154\n",
    "                      Hybrid      0.017463\n",
    "                      Other       0.000919\n",
    "        Manual        Petrol      0.719867\n",
    "                      Diesel      0.280133\n",
    "        Semi-Auto     Petrol      0.609280\n",
    "                      Diesel      0.388278\n",
    "                      Hybrid      0.002442\n",
    "        Name: fuelType, dtype: float64"
   ]
  },
  {
   "cell_type": "code",
   "execution_count": null,
   "id": "6f155bb5",
   "metadata": {},
   "outputs": [],
   "source": [
    "#6 comes here\n",
    "\n"
   ]
  },
  {
   "cell_type": "markdown",
   "id": "de4dcfe1",
   "metadata": {},
   "source": [
    "    - 7.Using \"groupby\" command, display the mean prices of each model. Your output must look like as follows;"
   ]
  },
  {
   "cell_type": "markdown",
   "id": "d7e29c17",
   "metadata": {},
   "source": [
    "\n",
    "        model\n",
    "        C-MAX        9914.567219\n",
    "        EcoSport    12498.653744\n",
    "        Fiesta      10194.046825\n",
    "        Focus       13184.996504\n",
    "        Ka+          8694.261860\n",
    "        Kuga        15821.564103\n",
    "        Mondeo      12305.927342\n",
    "        Name: price, dtype: float64"
   ]
  },
  {
   "cell_type": "code",
   "execution_count": null,
   "id": "1fda0d1d",
   "metadata": {},
   "outputs": [],
   "source": [
    "#7 comes here\n",
    "\n"
   ]
  },
  {
   "cell_type": "code",
   "execution_count": null,
   "id": "50b5f69f",
   "metadata": {},
   "outputs": [],
   "source": []
  },
  {
   "cell_type": "markdown",
   "id": "7306f31c",
   "metadata": {},
   "source": [
    "    - 8. As you see from \"decribe\" command above, there is a car with production year 2060! If we assume, it is not coming from the future, this data is wrong. The code below finds and display that row. Now you have it, replace that 2060 with 2001."
   ]
  },
  {
   "cell_type": "code",
   "execution_count": 5,
   "id": "03daf064",
   "metadata": {},
   "outputs": [
    {
     "data": {
      "text/html": [
       "<div>\n",
       "<style scoped>\n",
       "    .dataframe tbody tr th:only-of-type {\n",
       "        vertical-align: middle;\n",
       "    }\n",
       "\n",
       "    .dataframe tbody tr th {\n",
       "        vertical-align: top;\n",
       "    }\n",
       "\n",
       "    .dataframe thead th {\n",
       "        text-align: right;\n",
       "    }\n",
       "</style>\n",
       "<table border=\"1\" class=\"dataframe\">\n",
       "  <thead>\n",
       "    <tr style=\"text-align: right;\">\n",
       "      <th></th>\n",
       "      <th>model</th>\n",
       "      <th>year</th>\n",
       "      <th>transmission</th>\n",
       "      <th>mileage</th>\n",
       "      <th>fuelType</th>\n",
       "      <th>tax</th>\n",
       "      <th>mpg</th>\n",
       "      <th>engineSize</th>\n",
       "      <th>price</th>\n",
       "    </tr>\n",
       "  </thead>\n",
       "  <tbody>\n",
       "    <tr>\n",
       "      <th>15869</th>\n",
       "      <td>Fiesta</td>\n",
       "      <td>2060</td>\n",
       "      <td>Automatic</td>\n",
       "      <td>54807</td>\n",
       "      <td>Petrol</td>\n",
       "      <td>205</td>\n",
       "      <td>42.8</td>\n",
       "      <td>1.4</td>\n",
       "      <td>6495.0</td>\n",
       "    </tr>\n",
       "  </tbody>\n",
       "</table>\n",
       "</div>"
      ],
      "text/plain": [
       "        model  year transmission  mileage fuelType  tax   mpg  engineSize  \\\n",
       "15869  Fiesta  2060    Automatic    54807   Petrol  205  42.8         1.4   \n",
       "\n",
       "        price  \n",
       "15869  6495.0  "
      ]
     },
     "execution_count": 5,
     "metadata": {},
     "output_type": "execute_result"
    }
   ],
   "source": [
    "df[df['year']==2060]"
   ]
  },
  {
   "cell_type": "code",
   "execution_count": null,
   "id": "c84bce8e",
   "metadata": {},
   "outputs": [],
   "source": [
    "#8 comes here\n",
    "\n"
   ]
  },
  {
   "cell_type": "code",
   "execution_count": null,
   "id": "7635547b",
   "metadata": {},
   "outputs": [],
   "source": []
  },
  {
   "cell_type": "markdown",
   "id": "3bc4d397",
   "metadata": {},
   "source": [
    "    - 9.Production year is not not much useful. Create a new column named **age** using the \"year\" column. You should basically subtract  each entry in \"year\" column from 2022 to create *age* column. Use df.head() at the end to make sure that you actually created \"age\" column."
   ]
  },
  {
   "cell_type": "code",
   "execution_count": null,
   "id": "020e4137",
   "metadata": {},
   "outputs": [],
   "source": [
    "#9 comes here\n"
   ]
  },
  {
   "cell_type": "code",
   "execution_count": null,
   "id": "351f9beb",
   "metadata": {},
   "outputs": [],
   "source": []
  },
  {
   "cell_type": "markdown",
   "id": "bea34c15",
   "metadata": {},
   "source": [
    "## Missing Values"
   ]
  },
  {
   "cell_type": "markdown",
   "id": "80101c50",
   "metadata": {},
   "source": [
    "- In this section, you will handle missing values. If the missing value is categorical, replace them with the category having the highest count(this is called mode). If the missing value is numerical replace them with the *median* value of the corresponding column. "
   ]
  },
  {
   "cell_type": "markdown",
   "id": "17081e8e",
   "metadata": {},
   "source": [
    "    - 1. Write the command which displays how many missing values in each column. Clearly write down how many missing values we have in each category. Then fill out the code cells below to handle every each of these categories.\n"
   ]
  },
  {
   "cell_type": "code",
   "execution_count": null,
   "id": "7e0e3000",
   "metadata": {},
   "outputs": [],
   "source": [
    "#1 comes here\n"
   ]
  },
  {
   "cell_type": "code",
   "execution_count": null,
   "id": "f22cf390",
   "metadata": {},
   "outputs": [],
   "source": [
    "#handle tranmission\n",
    "\n"
   ]
  },
  {
   "cell_type": "code",
   "execution_count": null,
   "id": "a4679cf3",
   "metadata": {},
   "outputs": [],
   "source": []
  },
  {
   "cell_type": "code",
   "execution_count": null,
   "id": "d9895945",
   "metadata": {},
   "outputs": [],
   "source": [
    "#handle fuel-type\n",
    "\n"
   ]
  },
  {
   "cell_type": "code",
   "execution_count": null,
   "id": "50163b8f",
   "metadata": {},
   "outputs": [],
   "source": []
  },
  {
   "cell_type": "code",
   "execution_count": null,
   "id": "d5a2e415",
   "metadata": {},
   "outputs": [],
   "source": [
    "#handle price column\n",
    "\n"
   ]
  },
  {
   "cell_type": "code",
   "execution_count": null,
   "id": "8e18506e",
   "metadata": {},
   "outputs": [],
   "source": []
  },
  {
   "cell_type": "code",
   "execution_count": null,
   "id": "68af2861",
   "metadata": {},
   "outputs": [],
   "source": [
    "#now run this, all numbers must be zero if you correctly replaced the missing values above\n",
    "df.isna().sum()"
   ]
  },
  {
   "cell_type": "code",
   "execution_count": null,
   "id": "8863a51d",
   "metadata": {},
   "outputs": [],
   "source": []
  },
  {
   "cell_type": "markdown",
   "id": "ca2581e2",
   "metadata": {},
   "source": [
    "## Visualization Questions with Seaborn"
   ]
  },
  {
   "cell_type": "markdown",
   "id": "60453364",
   "metadata": {},
   "source": [
    "    - 1.Use \"histplot\" function to plot the distribution of ford models. This is the histogram plot that we discussed. Add the following arguments to your plot command to make it nicer. Your plot must look like \"models_hist.png\" file in \"figures\" folder.\n",
    "\n",
    "            multiple = 'dodge',shrink = 0.6"
   ]
  },
  {
   "cell_type": "code",
   "execution_count": null,
   "id": "63471f73",
   "metadata": {},
   "outputs": [],
   "source": [
    "#1 comes here\n",
    "plt.figure(figsize=(10,4))\n"
   ]
  },
  {
   "cell_type": "markdown",
   "id": "0f7740cb",
   "metadata": {},
   "source": [
    "    - 2. Based on the plot above, rank the models from highest count to lowest count\n"
   ]
  },
  {
   "cell_type": "markdown",
   "id": "77c66be0",
   "metadata": {},
   "source": [
    "    - 3-Now, copy your previous code and add *hue = 'transmission'* option to  breakdown each model category into \"transmission\" types. Your figure must be same with \"trans_model.png\" in the \"figures\" folder"
   ]
  },
  {
   "cell_type": "code",
   "execution_count": null,
   "id": "e2803293",
   "metadata": {},
   "outputs": [],
   "source": [
    "#3 comes here\n",
    "plt.figure(figsize=(12,6))\n"
   ]
  },
  {
   "cell_type": "markdown",
   "id": "5ace333a",
   "metadata": {},
   "source": [
    "    4-Use \"pairplot\" function from Seaborn to display 'mileage','year against 'price. Use the following options. Your figure must be same with \"pair_price.png\" in the \"figures\" folder\n",
    "\n",
    "               x_vars = ['mileage','year'], y_vars=['price'],height = 5"
   ]
  },
  {
   "cell_type": "code",
   "execution_count": null,
   "id": "fafae678",
   "metadata": {},
   "outputs": [],
   "source": [
    "#4 comes here\n"
   ]
  },
  {
   "cell_type": "markdown",
   "id": "9d257fdc",
   "metadata": {},
   "source": [
    "    5-Based on the plot above, do you see any relationship between 'year', 'mileage' vs 'price'. Explain briefly.\n",
    "\n"
   ]
  },
  {
   "cell_type": "markdown",
   "id": "e6a09451",
   "metadata": {},
   "source": [
    "    6- We will do series of box plots. First of all, watch some tutorials to refresh your knowladge. Create a box plot regarding model vs price. Your figure must be same with \"box_price.png in the \"figures\" folder."
   ]
  },
  {
   "cell_type": "code",
   "execution_count": null,
   "id": "b8355dcc",
   "metadata": {},
   "outputs": [],
   "source": [
    "#6 comes here\n",
    "plt.figure(figsize=(16,10))\n"
   ]
  },
  {
   "cell_type": "markdown",
   "id": "82ded515",
   "metadata": {},
   "source": [
    "    7-In the light of our discussion in the workshop, briefly interpret the figure. Which model appears to be the cheapest and the most expensive ones? How do you compare Fiesta and Ecosport models? Refer to median and quantiles concepts.\n",
    "\n",
    "\n",
    "\n",
    "\n",
    "\n",
    "\n"
   ]
  },
  {
   "cell_type": "markdown",
   "id": "71622e82",
   "metadata": {},
   "source": [
    "        8-Create a box plot regarding model vs fuelType. Your figure must be same with \"box_fuel.png\" in the \"figures\" folder."
   ]
  },
  {
   "cell_type": "code",
   "execution_count": null,
   "id": "9e9414fa",
   "metadata": {},
   "outputs": [],
   "source": [
    "#8 comes here\n",
    "plt.figure(figsize=(16,10))\n"
   ]
  },
  {
   "cell_type": "markdown",
   "id": "9cd06173",
   "metadata": {},
   "source": [
    "    - 9- In the light of our discussion in the workshop, briefly interpret the figure. Which fuel type cars appears to be the cheapest and the most expensive ones? How do you compare Petrol and Hybrid types. Refer to median and quantiles concepts.\n",
    "\n",
    "\n",
    "\n",
    "\n"
   ]
  },
  {
   "cell_type": "code",
   "execution_count": null,
   "id": "aa3d04f9",
   "metadata": {},
   "outputs": [],
   "source": []
  },
  {
   "cell_type": "markdown",
   "id": "a5e3f136",
   "metadata": {},
   "source": [
    "**Now, click *Kernel* button above and hit *Restart and Run All*. If everything runs smootly, you are ready to make your submission**"
   ]
  },
  {
   "cell_type": "code",
   "execution_count": null,
   "id": "aa1aaf5b",
   "metadata": {},
   "outputs": [],
   "source": []
  },
  {
   "cell_type": "code",
   "execution_count": null,
   "id": "bcadd6e3",
   "metadata": {},
   "outputs": [],
   "source": []
  },
  {
   "cell_type": "code",
   "execution_count": null,
   "id": "3d9c0282",
   "metadata": {},
   "outputs": [],
   "source": []
  }
 ],
 "metadata": {
  "kernelspec": {
   "display_name": "Python 3 (ipykernel)",
   "language": "python",
   "name": "python3"
  },
  "language_info": {
   "codemirror_mode": {
    "name": "ipython",
    "version": 3
   },
   "file_extension": ".py",
   "mimetype": "text/x-python",
   "name": "python",
   "nbconvert_exporter": "python",
   "pygments_lexer": "ipython3",
   "version": "3.8.10"
  },
  "latex_envs": {
   "LaTeX_envs_menu_present": true,
   "autoclose": false,
   "autocomplete": false,
   "bibliofile": "biblio.bib",
   "cite_by": "apalike",
   "current_citInitial": 1,
   "eqLabelWithNumbers": true,
   "eqNumInitial": 1,
   "hotkeys": {
    "equation": "Ctrl-E",
    "itemize": "Ctrl-I"
   },
   "labels_anchors": false,
   "latex_user_defs": false,
   "report_style_numbering": false,
   "user_envs_cfg": false
  },
  "toc": {
   "base_numbering": 1,
   "nav_menu": {},
   "number_sections": true,
   "sideBar": true,
   "skip_h1_title": false,
   "title_cell": "Table of Contents",
   "title_sidebar": "Contents",
   "toc_cell": false,
   "toc_position": {},
   "toc_section_display": true,
   "toc_window_display": false
  }
 },
 "nbformat": 4,
 "nbformat_minor": 5
}
