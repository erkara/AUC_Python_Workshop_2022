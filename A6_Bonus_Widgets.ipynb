{
 "cells": [
  {
   "cell_type": "markdown",
   "id": "11b3a62e",
   "metadata": {},
   "source": [
    "## Using ipywidgets for Interactive Graphs "
   ]
  },
  {
   "cell_type": "code",
   "execution_count": 1,
   "id": "e32cb191",
   "metadata": {},
   "outputs": [],
   "source": [
    "import ipywidgets as widgets\n",
    "#https://ipywidgets.readthedocs.io/en/latest/index.html\n",
    "import numpy as np\n",
    "import matplotlib.pyplot as plt\n",
    "%matplotlib inline"
   ]
  },
  {
   "cell_type": "markdown",
   "id": "7b70ebbd",
   "metadata": {},
   "source": [
    "-  Plot interactive function to show how slope and intercept changes the line $$y=mx+n$$ where $m$ is the slope and $n$ is the y-intercept. Let's see how changing $m$ and $n$ effect the line."
   ]
  },
  {
   "cell_type": "code",
   "execution_count": 2,
   "id": "29d1c63c",
   "metadata": {},
   "outputs": [
    {
     "data": {
      "image/png": "[encoded data removed]",
      "text/plain": [
       "<Figure size 360x360 with 1 Axes>"
      ]
     },
     "metadata": {
      "needs_background": "light"
     },
     "output_type": "display_data"
    }
   ],
   "source": [
    "#@widgets.interact(m = (-5,5,1),n=(-5,5,1) )\n",
    "def PlotLine(m=1,n=1):\n",
    "    x = np.linspace(-5,5,10)\n",
    "    y = m*x+n\n",
    "    plt.figure(figsize=(5,5))\n",
    "    plt.plot(x,y)\n",
    "    #plt.text(-5,5,f\"slope is {m}\\nintercept is:{n}\",weight=\"bold\")\n",
    "    plt.xlim(-5,5)\n",
    "    plt.ylim(-10,10)\n",
    "    plt.grid(True)\n",
    "    #plt.show()\n",
    "\n",
    "PlotLine(m=2,n=1)"
   ]
  },
  {
   "cell_type": "code",
   "execution_count": 3,
   "id": "f1d65e20",
   "metadata": {},
   "outputs": [
    {
     "data": {
      "application/vnd.jupyter.widget-view+json": {
       "model_id": "229df8c826b44188abdda251c148753a",
       "version_major": 2,
       "version_minor": 0
      },
      "text/plain": [
       "interactive(children=(FloatSlider(value=1.0, description='m', max=5.0, min=-5.0, step=0.5), FloatSlider(value=…"
      ]
     },
     "metadata": {},
     "output_type": "display_data"
    }
   ],
   "source": [
    "#slider\n",
    "widgets.interact(PlotLine,m=(-5,5,0.5),n=(-5,5,0.5))\n",
    "\n",
    "#drop-down\n",
    "#widgets.interact(PlotLine,m=[-3,-2,-1,0,1,2,3],n=[-3,-2,-1,0,1,2,3])\n",
    "plt.show()"
   ]
  },
  {
   "cell_type": "markdown",
   "id": "8a9ad358",
   "metadata": {},
   "source": [
    "-  Consider the parabola $y=ax^2$. How does the graph of this parabola change with respect to $a$?"
   ]
  },
  {
   "cell_type": "code",
   "execution_count": 4,
   "id": "6ebf0bea",
   "metadata": {},
   "outputs": [],
   "source": [
    "def PlotParabola(a=1):\n",
    "    x = np.linspace(-5,5,50)\n",
    "    y = a*x**2\n",
    "    plt.figure(figsize=(5,5))\n",
    "    plt.plot(x,y)\n",
    "    plt.xlabel('x')\n",
    "    plt.ylabel('y')\n",
    "    plt.xlim(-5,5)\n",
    "    plt.ylim(-80,80)\n",
    "    plt.grid(True)\n",
    "    plt.title(f\"a={a}\",weight=\"bold\",fontsize=30)\n",
    "    plt.show()"
   ]
  },
  {
   "cell_type": "code",
   "execution_count": 5,
   "id": "6874d1b9",
   "metadata": {},
   "outputs": [],
   "source": [
    "#PlotParabola(a=3)"
   ]
  },
  {
   "cell_type": "code",
   "execution_count": 6,
   "id": "841c4771",
   "metadata": {},
   "outputs": [
    {
     "data": {
      "application/vnd.jupyter.widget-view+json": {
       "model_id": "7a7b4bfa392848c6814e44564b2a4eae",
       "version_major": 2,
       "version_minor": 0
      },
      "text/plain": [
       "interactive(children=(IntSlider(value=1, description='a', max=5, min=-5), Output()), _dom_classes=('widget-int…"
      ]
     },
     "metadata": {},
     "output_type": "display_data"
    }
   ],
   "source": [
    "widgets.interact(PlotParabola,a=(-5,5,1))\n",
    "plt.show()"
   ]
  },
  {
   "cell_type": "code",
   "execution_count": 7,
   "id": "de72561b",
   "metadata": {},
   "outputs": [
    {
     "data": {
      "application/vnd.jupyter.widget-view+json": {
       "model_id": "716d5f8c66114f8086c41a951f6ee882",
       "version_major": 2,
       "version_minor": 0
      },
      "text/plain": [
       "interactive(children=(Play(value=0, description='a', max=5, min=-5), Output()), _dom_classes=('widget-interact…"
      ]
     },
     "metadata": {},
     "output_type": "display_data"
    }
   ],
   "source": [
    "widgets.interact(PlotParabola,a=widgets.Play(min=-5,max=5))\n",
    "plt.show()"
   ]
  },
  {
   "cell_type": "code",
   "execution_count": null,
   "id": "13280a33",
   "metadata": {},
   "outputs": [],
   "source": []
  },
  {
   "cell_type": "code",
   "execution_count": null,
   "id": "9ba2da82",
   "metadata": {},
   "outputs": [],
   "source": []
  }
 ],
 "metadata": {
  "kernelspec": {
   "display_name": "Python 3 (ipykernel)",
   "language": "python",
   "name": "python3"
  },
  "language_info": {
   "codemirror_mode": {
    "name": "ipython",
    "version": 3
   },
   "file_extension": ".py",
   "mimetype": "text/x-python",
   "name": "python",
   "nbconvert_exporter": "python",
   "pygments_lexer": "ipython3",
   "version": "3.8.10"
  },
  "latex_envs": {
   "LaTeX_envs_menu_present": true,
   "autoclose": false,
   "autocomplete": false,
   "bibliofile": "biblio.bib",
   "cite_by": "apalike",
   "current_citInitial": 1,
   "eqLabelWithNumbers": true,
   "eqNumInitial": 1,
   "hotkeys": {
    "equation": "Ctrl-E",
    "itemize": "Ctrl-I"
   },
   "labels_anchors": false,
   "latex_user_defs": false,
   "report_style_numbering": false,
   "user_envs_cfg": false
  },
  "toc": {
   "base_numbering": 1,
   "nav_menu": {},
   "number_sections": true,
   "sideBar": true,
   "skip_h1_title": false,
   "title_cell": "Table of Contents",
   "title_sidebar": "Contents",
   "toc_cell": false,
   "toc_position": {},
   "toc_section_display": true,
   "toc_window_display": false
  }
 },
 "nbformat": 4,
 "nbformat_minor": 5
}
